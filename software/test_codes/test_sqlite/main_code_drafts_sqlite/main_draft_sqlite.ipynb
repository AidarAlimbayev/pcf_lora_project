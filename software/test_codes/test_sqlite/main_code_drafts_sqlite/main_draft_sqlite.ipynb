{
 "cells": [
  {
   "cell_type": "markdown",
   "metadata": {},
   "source": [
    "# Import libraries"
   ]
  },
  {
   "cell_type": "code",
   "execution_count": 7,
   "metadata": {},
   "outputs": [],
   "source": [
    "#!/usr/bin/python\n",
    "import sqlite3 as sq3\n",
    "from datetime import datetime\n",
    "import requests\n",
    "import json\n",
    "import socket\n",
    "from datetime import time\n",
    "import logging\n"
   ]
  },
  {
   "cell_type": "markdown",
   "metadata": {},
   "source": [
    "# Print_log function"
   ]
  },
  {
   "cell_type": "code",
   "execution_count": 8,
   "metadata": {},
   "outputs": [],
   "source": [
    "logging.basicConfig(filename = '%s.log'%str(datetime.now().strftime(\"%Y_%m_%d_%H_%M_%S\")), level = logging.DEBUG, format='[%(filename)s:%(lineno)s - %(funcName)20s() ] %(asctime)s %(message)s')\n",
    "\n",
    "def print_log(message = None, value = None): # Function to logging and printing messages into terminal for debug\n",
    "    logging.info(message)\n",
    "    if value != None:\n",
    "        logging.info(value)\n",
    "    print(message)\n",
    "    if value != None:\n",
    "        print(value)\n",
    "    return 0"
   ]
  },
  {
   "cell_type": "markdown",
   "metadata": {},
   "source": [
    "# Create databases and tables"
   ]
  },
  {
   "cell_type": "code",
   "execution_count": 9,
   "metadata": {},
   "outputs": [
    {
     "name": "stdout",
     "output_type": "stream",
     "text": [
      "Opened database successfully\n",
      "ZERO table created successfully\n",
      "Opened database successfully\n",
      "EQUIPMENT table created successfully\n",
      "Opened database successfully\n",
      "MAIN_DATA table created successfully\n",
      "Opened database successfully\n",
      "RAW_DATA table Created successfully\n",
      "Opened database successfully\n",
      "SPRAY table created successfully\n",
      "Opened database successfully\n",
      "METRICS table created successfully\n"
     ]
    }
   ],
   "source": [
    "# First table draft\n",
    "cur = sq3.connect(\"main_database.db\")\n",
    "print(\"Opened database successfully\")\n",
    "\n",
    "# Here maybe required a zero table \n",
    "\n",
    "# //Maybe required zero table data added time. DATA_ADDED_TIME\n",
    "\n",
    "cur.execute('''CREATE TABLE ZERO\n",
    "            (ID              INTEGER PRIMARY KEY    NOT NULL,\n",
    "            ANIMAL_ID        TEXT                   UNIQUE,\n",
    "            ADDED_TIME       DATETIME);''')\n",
    "\n",
    "print(\"ZERO table created successfully\")\n",
    "cur.close()\n",
    "\n",
    "\n",
    "cur = sq3.connect(\"main_database.db\")\n",
    "print(\"Opened database successfully\")\n",
    "\n",
    "cur.execute('''CREATE TABLE EQUIPMENT\n",
    "            (EQUIPMENT_ID               INTEGER PRIMARY KEY  AUTOINCREMENT,\n",
    "            TYPE                        TEXT CHECK( TYPE IN ('SCALES','SCALES_SPRAY','FEEDER_SCALES') )  DEFAULT 'NULL',\n",
    "            MODEL                       TEXT,\n",
    "            EQUIPMENT_NAME              TEXT    UNIQUE,\n",
    "            LOCATION                    TEXT,\n",
    "            PERSON                      TEXT,\n",
    "            CONTACT                     TEXT);''')\n",
    "\n",
    "print(\"EQUIPMENT table created successfully\")\n",
    "cur.close()\n",
    "\n",
    "\n",
    "cur = sq3.connect(\"main_database.db\")\n",
    "print(\"Opened database successfully\")\n",
    "\n",
    "cur.execute('''CREATE TABLE MAIN_DATA\n",
    "            (CASE_ID                    INTEGER PRIMARY KEY  AUTOINCREMENT,\n",
    "            ANIMAL_ID                   TEXT                NOT NULL,\n",
    "            EVENT_TIME                  DATETIME            NOT NULL,\n",
    "            WEIGHT                      DOUBLE              NOT NULL,\n",
    "            EQUIPMENT_NAME              TEXT                NOT NULL,\n",
    "            DRINK_DURATION              TIME,               \n",
    "            DATA_STATUS                 TEXT CHECK( DATA_STATUS IN ('YES','NO') )   NOT NULL DEFAULT 'NO',\n",
    "            TRANSFER_TIME               DATETIME,\n",
    "            FOREIGN KEY(ANIMAL_ID) REFERENCES ZERO(ANIMAL_ID),\n",
    "            FOREIGN KEY(EQUIPMENT_NAME) REFERENCES EQUIPMENT(EQUIPMENT_NAME));''')\n",
    "\n",
    "\n",
    "print(\"MAIN_DATA table created successfully\")\n",
    "cur.close()\n",
    "\n",
    "\n",
    "cur = sq3.connect(\"main_database.db\")\n",
    "print(\"Opened database successfully\")\n",
    "\n",
    "cur.execute('''CREATE TABLE RAW_DATA\n",
    "            (RAW_CASE_ID                INTEGER PRIMARY KEY      AUTOINCREMENT,  \n",
    "            ANIMAL_ID                   TEXT                 NOT NULL,\n",
    "            EVENT_TIME                  DATETIME             NOT NULL,\n",
    "            WEIGHT                      DOUBLE               NOT NULL,\n",
    "            EQUIPMENT_NAME              TEXT                 NOT NULL,\n",
    "            DATA_STATUS                 TEXT CHECK( DATA_STATUS IN ('YES','NO') )   NOT NULL DEFAULT 'NO', \n",
    "            TRANSFER_TIME               DATETIME,\n",
    "            FOREIGN KEY(ANIMAL_ID) REFERENCES ZERO(ANIMAL_ID),\n",
    "            FOREIGN KEY(EQUIPMENT_NAME) REFERENCES EQUIPMENT(EQUIPMENT_NAME));''')\n",
    "\n",
    "print(\"RAW_DATA table Created successfully\")\n",
    "cur.close()\n",
    "\n",
    "\n",
    "cur = sq3.connect(\"main_database.db\")\n",
    "print(\"Opened database successfully\")\n",
    "\n",
    "# //COMMAND_TIME change to ORDER_TIME\n",
    "# //Change order between COMMAND_TIME and SPRAY_STATUS\n",
    "\n",
    "cur.execute('''CREATE TABLE SPRAY\n",
    "            (CASE_ID                        INTEGER PRIMARY KEY  AUTOINCREMENT,\n",
    "            ANIMAL_ID                       TEXT                    NOT NULL,\n",
    "            EQUIPMENT_NAME                  TEXT                    NOT NULL,\n",
    "            TYPE                            TEXT CHECK( TYPE IN ('PAINT','DRUG') )   NOT NULL DEFAULT 'DRUG',                  \n",
    "            ORDER_TIME                      DATETIME,\n",
    "            SPRAY_STATUS                    TEXT CHECK( SPRAY_STATUS IN ('NONE','DONE', 'WAIT') )   NOT NULL DEFAULT 'NONE',\n",
    "            DONE_TIME                       DATETIME,\n",
    "            DATA_STATUS                     TEXT CHECK( DATA_STATUS IN ('YES','NO') )   NOT NULL DEFAULT 'NO',\n",
    "            TRANSFER_TIME                   DATETIME,\n",
    "            FOREIGN KEY(ANIMAL_ID) REFERENCES ZERO(ANIMAL_ID),\n",
    "            FOREIGN KEY(EQUIPMENT_NAME) REFERENCES EQUIPMENT(EQUIPMENT_NAME));''')\n",
    "\n",
    "print(\"SPRAY table created successfully\")\n",
    "\n",
    "cur = sq3.connect(\"main_database.db\")\n",
    "print(\"Opened database successfully\")\n",
    "\n",
    "cur.execute('''CREATE TABLE METRICS\n",
    "            (METRICS_ID                     INTEGER PRIMARY KEY  AUTOINCREMENT,\n",
    "            EQUIPMENT_NAME                  INTEGER                    NOT NULL,\n",
    "            BOOT_ID                         INTEGER                    NOT NULL,\n",
    "            EVENT_TIME                      DATETIME,                   \n",
    "            UPTIME                          DATETIME,\n",
    "            LAST_SHUTDOWN                   DATETIME,\n",
    "            CPU_TEMP                        DOUBLE,\n",
    "            VOLTAGE                         DOUBLE,\n",
    "            ERROR                           TEXT,\n",
    "            MESSAGE                         TEXT,\n",
    "            MEMORY                          DOUBLE,\n",
    "            FOREIGN KEY(EQUIPMENT_NAME) REFERENCES EQUIPMENT(EQUIPMENT_NAME));''')\n",
    "\n",
    "print(\"METRICS table created successfully\")\n",
    "\n",
    "\n",
    "\n",
    "cur.close()"
   ]
  },
  {
   "cell_type": "markdown",
   "metadata": {},
   "source": [
    "# Staging animal into SPRAY table with wait status"
   ]
  },
  {
   "cell_type": "code",
   "execution_count": 24,
   "metadata": {},
   "outputs": [],
   "source": [
    "############################################################################\n",
    "# Staging animals into spray from zero table\n",
    "# weakness #1 of this code is if cow is in other database maybe it will be skipped\n",
    "# weakness #2 if cow not came in this scales maybe it will be skipped\n",
    "\n",
    "def staging_into_spray_table():\n",
    "    try:\n",
    "        # function variables \n",
    "        spray_type = \"DRUG\"\n",
    "        spray_status = \"WAIT\"\n",
    "        order_time = datetime.now()\n",
    "\n",
    "        cur = sq3.connect('main_database.db')\n",
    "\n",
    "        ##################\n",
    "        # Get equipment name from equipment table\n",
    "        cursor_equipment = cur.execute(\"SELECT EQUIPMENT_NAME from EQUIPMENT\")\n",
    "        for row in cursor_equipment:\n",
    "            equipment_name = row[0]\n",
    "            print_log(\"EQUIPMENT_NAME = \", equipment_name)\n",
    "        ###################\n",
    "\n",
    "        ###################\n",
    "        # get unique animal id from zero table and staging into spray status\n",
    "        cursor_zero = cur.execute(\"SELECT ID, ANIMAL_ID from ZERO\")\n",
    "        for row in cursor_zero:\n",
    "            id = row[0]\n",
    "            print_log(\"ID = \", id)\n",
    "            animal_id = row[1]\n",
    "            print_log(\"ANIMAL_ID = \", animal_id)\n",
    "            cur.execute(\"INSERT INTO SPRAY (ANIMAL_ID, EQUIPMENT_NAME, TYPE, SPRAY_STATUS, ORDER_TIME) VALUES (?, ?, ?, ?, ?)\",\n",
    "                            (animal_id, equipment_name, spray_type, spray_status, order_time))\n",
    "        cur.commit()\n",
    "        cur.close()\n",
    "    except Exception as e:\n",
    "        print_log(\"Error in adding data into SPRAY table\", e)\n",
    "    else:\n",
    "        print_log(\"Success: Data into SPRAY table added\")\n",
    "        return 0\n",
    "\n",
    "############################################################################"
   ]
  },
  {
   "cell_type": "code",
   "execution_count": 25,
   "metadata": {},
   "outputs": [
    {
     "name": "stdout",
     "output_type": "stream",
     "text": [
      "EQUIPMENT_NAME = \n",
      "Test_sqlite_ver45\n",
      "ID = \n",
      "1\n",
      "ANIMAL_ID = \n",
      "02821760656c\n",
      "ID = \n",
      "2\n",
      "ANIMAL_ID = \n",
      "00161710651f\n",
      "Success: Data into SPRAY table added\n"
     ]
    },
    {
     "data": {
      "text/plain": [
       "0"
      ]
     },
     "execution_count": 25,
     "metadata": {},
     "output_type": "execute_result"
    }
   ],
   "source": [
    "staging_into_spray_table()"
   ]
  },
  {
   "cell_type": "markdown",
   "metadata": {},
   "source": [
    "# Spray function by animal id"
   ]
  },
  {
   "cell_type": "code",
   "execution_count": 27,
   "metadata": {},
   "outputs": [],
   "source": [
    "#####################################################################\n",
    "# function of spray command by check of animal_id and spray_status\n",
    "def spray_animal_by_spray_status(animal_id):\n",
    "    try:\n",
    "        print_log(\"Start spray function\")\n",
    "        cur = sq3.connect('main_database.db')\n",
    "        cursor_spray_animal_id = cur.execute(\"SELECT CASE_ID, ANIMAL_ID, SPRAY_STATUS from SPRAY\")\n",
    "        for row in cursor_spray_animal_id:\n",
    "            case_id = row[0]\n",
    "            print_log(\"CASE_ID = \", case_id)\n",
    "            spray_animal_id = row[1]\n",
    "            print_log(\"SPRAY_ANIMAL_ID = \", spray_animal_id)\n",
    "            spray_status = row[2]\n",
    "            print_log(\"SPRAY_STATUS = \", spray_status)\n",
    "\n",
    "            if spray_animal_id == animal_id:\n",
    "                if spray_status == \"WAIT\":\n",
    "                    # RUN GPIO PWM function\n",
    "                    data_for_query = ('DONE', datetime.now() , case_id)\n",
    "                    sqlite_querry = \"\"\"UPDATE SPRAY SET SPRAY_STATUS = ?, DONE_TIME = ? WHERE CASE_ID = ?\"\"\"                 \n",
    "                    cur.execute(sqlite_querry, data_for_query) \n",
    "\n",
    "        cur.commit()\n",
    "        cur.close()\n",
    "    except Exception as e:\n",
    "        print_log(\"Error in Spray function\", e)\n",
    "    else:\n",
    "        print_log(\"Success: Animal sprayed\")\n",
    "        return 0\n",
    "#####################################################################"
   ]
  },
  {
   "cell_type": "code",
   "execution_count": 30,
   "metadata": {},
   "outputs": [
    {
     "name": "stdout",
     "output_type": "stream",
     "text": [
      "Start spray function\n",
      "CASE_ID = \n",
      "1\n",
      "SPRAY_ANIMAL_ID = \n",
      "02821760656c\n",
      "SPRAY_STATUS = \n",
      "DONE\n",
      "CASE_ID = \n",
      "2\n",
      "SPRAY_ANIMAL_ID = \n",
      "00161710651f\n",
      "SPRAY_STATUS = \n",
      "WAIT\n",
      "Success: Animal sprayed\n"
     ]
    },
    {
     "data": {
      "text/plain": [
       "0"
      ]
     },
     "execution_count": 30,
     "metadata": {},
     "output_type": "execute_result"
    }
   ],
   "source": [
    "spray_animal_by_spray_status('00161710651f')"
   ]
  },
  {
   "cell_type": "markdown",
   "metadata": {},
   "source": [
    "# Insert test data"
   ]
  },
  {
   "cell_type": "code",
   "execution_count": 57,
   "metadata": {},
   "outputs": [
    {
     "name": "stdout",
     "output_type": "stream",
     "text": [
      "Opened database successfully\n",
      "Recodrs created succesfully\n"
     ]
    }
   ],
   "source": [
    "cur = sq3.connect('main_database.db')\n",
    "print(\"Opened database successfully\")\n",
    "\n",
    "cur.execute(\"INSERT INTO FIRST (ANIMAL_ID, EVENT_TIME, WEIGHT, EQUIPMENT_ID, DATA_STATUS, TRANSFER_TIME) \\\n",
    "    VALUES ('rfid_sql_test_1', datetime(strftime('%s','now'), 'unixepoch', 'localtime'), 300, 'model_sql_test', 'NO', NULL)\");\n",
    "\n",
    "cur.execute(\"INSERT INTO FIRST (ANIMAL_ID, EVENT_TIME, WEIGHT, EQUIPMENT_ID, DATA_STATUS, TRANSFER_TIME) \\\n",
    "    VALUES ('rfid_sql_test_2', datetime(strftime('%s','now'), 'unixepoch', 'localtime'), 300, 'model_sql_test', 'NO', NULL)\");\n",
    "\n",
    "cur.execute(\"INSERT INTO FIRST (ANIMAL_ID, EVENT_TIME, WEIGHT, EQUIPMENT_ID, DATA_STATUS, TRANSFER_TIME) \\\n",
    "    VALUES ('rfid_sql_test_3', datetime(strftime('%s','now'), 'unixepoch', 'localtime'), 300, 'model_sql_test', 'NO', NULL)\");\n",
    "\n",
    "cur.execute(\"INSERT INTO RAW_DATA(ANIMAL_ID, EVENT_TIME, WEIGHT, EQUIPMENT_ID) \\\n",
    "    VALUES ('rfid_sql_test', datetime(strftime('%s','now'), 'unixepoch', 'localtime'), 290, 'model_sql_test')\");\n",
    "\n",
    "cur.execute(\"INSERT INTO RAW_DATA(ANIMAL_ID, EVENT_TIME, WEIGHT, EQUIPMENT_ID) \\\n",
    "    VALUES ('rfid_sql_test', datetime(strftime('%s','now'), 'unixepoch', 'localtime'), 300, 'model_sql_test')\");\n",
    "\n",
    "cur.execute(\"INSERT INTO RAW_DATA(ANIMAL_ID, EVENT_TIME, WEIGHT, EQUIPMENT_ID) \\\n",
    "    VALUES ('rfid_sql_test', datetime(strftime('%s','now'), 'unixepoch', 'localtime'), 300, 'model_sql_test')\");\n",
    "\n",
    "cur.execute(\"INSERT INTO RAW_DATA(ANIMAL_ID, EVENT_TIME, WEIGHT, EQUIPMENT_ID) \\\n",
    "    VALUES ('rfid_sql_test', datetime(strftime('%s','now'), 'unixepoch', 'localtime'), 300, 'model_sql_test')\");\n",
    "\n",
    "cur.execute(\"INSERT INTO RAW_DATA(ANIMAL_ID, EVENT_TIME, WEIGHT, EQUIPMENT_ID) \\\n",
    "    VALUES ('rfid_sql_test', datetime(strftime('%s','now'), 'unixepoch', 'localtime'), 300, 'model_sql_test')\");\n",
    "\n",
    "\n",
    "cur.commit()\n",
    "print(\"Recodrs created succesfully\")\n",
    "cur.close()"
   ]
  },
  {
   "cell_type": "code",
   "execution_count": null,
   "metadata": {},
   "outputs": [],
   "source": [
    "# print MAIN_DATA_TABLE cells\n",
    "conn = sq3.connect('main_database.db')\n",
    "print(\"Opened database successfully\")\n",
    "\n",
    "cursor = conn.execute(\"SELECT CASE_ID, ANIMAL_ID, EVENT_TIME, WEIGHT, EQUIPMENT_ID, DRINK_DURATION, DATA_STATUS, TRANSFER_TIME from FIRST\")\n",
    "\n",
    "for row in cursor:\n",
    "    print(\"ID = \", row[0])\n",
    "    print(\"ANIMAL_ID = \", row[1])\n",
    "    print(\"EVENT_TIME = \", row[2])\n",
    "    print(\"WEIGHT = \", row[3])\n",
    "    print(\"SCALES_TYPE = \", row[4])\n",
    "    print(\"LAST_DRINK_DURATION = \", row[5])\n",
    "    print(\"DATA_STATUS = \", row[6])\n",
    "    print(\"DATA_TRANSFER_TIME = \", row[7], \"\\n\")\n",
    "\n",
    "print(\"Operation done succesfully\")\n",
    "conn.close()\n"
   ]
  },
  {
   "cell_type": "markdown",
   "metadata": {},
   "source": [
    "# Merge info in different databases"
   ]
  },
  {
   "cell_type": "code",
   "execution_count": null,
   "metadata": {},
   "outputs": [],
   "source": [
    "conn_1 = sq3.connect('main_database_1.db')\n",
    "conn_2 = sq3.connect('main_database_2.db')\n",
    "print(\"Opened database successfully\")\n",
    "\n",
    "\n",
    "\n",
    "\n",
    "\n",
    "\n",
    "\n"
   ]
  },
  {
   "cell_type": "markdown",
   "metadata": {},
   "source": [
    "# Insert new animal_id in zero table"
   ]
  },
  {
   "cell_type": "code",
   "execution_count": 14,
   "metadata": {},
   "outputs": [],
   "source": [
    "###################################################################################################\n",
    "# Insert to zero table new unique animal_id \n",
    "def insert_new_unique_animal_id(animal_id):\n",
    "    try:\n",
    "        conn = sq3.connect('main_database.db')\n",
    "        print_log(\"Opened database successfully\")\n",
    "        cursor = conn.execute(\"SELECT ANIMAL_ID from ZERO\")           \n",
    "        print_log(\"animal_id\", animal_id)\n",
    "        print_log(\"Start to add new unique animal id\")\n",
    "        data_for_query = (animal_id)\n",
    "        conn.execute(\"INSERT INTO ZERO (ANIMAL_ID) VALUES (?)\",\n",
    "                    (animal_id,))\n",
    "\n",
    "        print_log(\"animal_id\", animal_id)\n",
    "        conn.commit()\n",
    "        conn.close()\n",
    "\n",
    "    except Exception as e:\n",
    "        print_log(\"Error in creating new animal_id in zero table \", e)\n",
    "    else:\n",
    "        return 0\n",
    "###################################################################################################\n"
   ]
  },
  {
   "cell_type": "code",
   "execution_count": 17,
   "metadata": {},
   "outputs": [
    {
     "name": "stdout",
     "output_type": "stream",
     "text": [
      "Opened database successfully\n",
      "animal_id\n",
      "12\n",
      "Start to add new unique animal id\n",
      "<sqlite3.Cursor object at 0x7fba7e6e7240>\n",
      "animal_id\n",
      "12\n"
     ]
    },
    {
     "data": {
      "text/plain": [
       "0"
      ]
     },
     "execution_count": 17,
     "metadata": {},
     "output_type": "execute_result"
    }
   ],
   "source": [
    "insert_new_unique_animal_id(\"12\")"
   ]
  },
  {
   "cell_type": "markdown",
   "metadata": {},
   "source": [
    "# Insert new EQUIPMENT_ID in EQUIPMENT table"
   ]
  },
  {
   "cell_type": "code",
   "execution_count": 41,
   "metadata": {},
   "outputs": [],
   "source": [
    "###################################################################################################\n",
    "# Insert to zero table new unique equipment data\n",
    "def Insert_New_Unique_Equipment_Type_Model(type, model, equipment_name, location, person, contact):\n",
    "    try:\n",
    "        conn = sq3.connect('main_database.db')\n",
    "        print_log(\"Opened database successfully\")\n",
    "        cursor = conn.execute(\"SELECT TYPE, MODEL, EQUIPMENT_NAME, LOCATION, PERSON, CONTACT from EQUIPMENT\")           \n",
    "        print_log(\"Start to add new unique equipment data\")\n",
    "        data_for_query = (type, model, equipment_name, location, person, contact)\n",
    "        conn.execute(\"INSERT INTO EQUIPMENT (TYPE, MODEL, EQUIPMENT_NAME, LOCATION, PERSON, CONTACT) VALUES (?, ?, ?, ?, ?, ?)\",\n",
    "                    (type, model, equipment_name, location, person, contact))\n",
    "\n",
    "        print_log(\"TYPE\", type)\n",
    "        print_log(\"MODEL\", model)\n",
    "        print_log(\"EQUIPMENT_NAME\", equipment_name)\n",
    "        print_log(\"LOCATION\", location)\n",
    "        print_log(\"PERSON\", person)\n",
    "        print_log(\"CONTACT\", contact)\n",
    "        conn.commit()\n",
    "        conn.close()\n",
    "\n",
    "    except Exception as e:\n",
    "        print_log(\"Error in creating new unique equipment data in EQUIPMENT table \", e)\n",
    "    else:\n",
    "        return 0\n",
    "###################################################################################################"
   ]
  },
  {
   "cell_type": "code",
   "execution_count": 42,
   "metadata": {},
   "outputs": [
    {
     "name": "stdout",
     "output_type": "stream",
     "text": [
      "Opened database successfully\n",
      "Start to add new unique equipment data\n",
      "TYPE\n",
      "SCALES_SPRAY\n",
      "MODEL\n",
      "800\n",
      "EQUIPMENT_NAME\n",
      "PCF_MODEL_10\n",
      "LOCATION\n",
      "Agrarka_1212\n",
      "PERSON\n",
      "Yerkebulan\n",
      "CONTACT\n",
      "+77779980051\n"
     ]
    },
    {
     "data": {
      "text/plain": [
       "0"
      ]
     },
     "execution_count": 42,
     "metadata": {},
     "output_type": "execute_result"
    }
   ],
   "source": [
    "Insert_New_Unique_Equipment_Type_Model(\"SCALES_SPRAY\", \"800\", \"PCF_MODEL_10\", \"Agrarka_1212\", \"Yerkebulan\", \"+77779980051\")"
   ]
  },
  {
   "cell_type": "markdown",
   "metadata": {},
   "source": [
    "# Insert into MAIN_DATA_TABLE"
   ]
  },
  {
   "cell_type": "code",
   "execution_count": 39,
   "metadata": {},
   "outputs": [],
   "source": [
    "# Collect to database function \n",
    "##########################################################################################\n",
    "\n",
    "def collect_to_first_table(animal_id, weight, equipment_id):\n",
    "    try:\n",
    "        data_status = 'NO'\n",
    "        drink_duration= 'NULL'\n",
    "        event_time = datetime.now()\n",
    "        transfer_time = 'NULL'\n",
    "\n",
    "        conn = sq3.connect('main_database.db')\n",
    "        print(\"Opened database successfully\")\n",
    "        conn.execute(\"INSERT INTO FIRST (ANIMAL_ID, EVENT_TIME, WEIGHT, EQUPMENT_ID, DRINK_DURATION, DATA_STATUS, TRANSFER_TIME ) VALUES(?, ?, ?, ?, ?, ?, ?)\",\n",
    "                                            (animal_id, event_time, weight, equipment_id, drink_duration, data_status, transfer_time))\n",
    "        conn.commit()\n",
    "        conn.close()\n",
    "\n",
    "    except Exception as e:\n",
    "        print(\"Error to save data in \", e)\n",
    "    else:\n",
    "        return 0\n",
    "###########################################################################"
   ]
  },
  {
   "cell_type": "code",
   "execution_count": 83,
   "metadata": {},
   "outputs": [
    {
     "name": "stdout",
     "output_type": "stream",
     "text": [
      "Opened database successfully\n"
     ]
    },
    {
     "data": {
      "text/plain": [
       "0"
      ]
     },
     "execution_count": 83,
     "metadata": {},
     "output_type": "execute_result"
    }
   ],
   "source": [
    "# main table collect check\n",
    "animal_id = 'test_main_data_table_function'\n",
    "weight = 1231\n",
    "equipment_id = 'sqlite_test'\n",
    "\n",
    "collect_to_first_table(animal_id, weight, equipment_id)"
   ]
  },
  {
   "cell_type": "markdown",
   "metadata": {},
   "source": [
    "# Insert into RAW DATA TABLE"
   ]
  },
  {
   "cell_type": "code",
   "execution_count": 51,
   "metadata": {},
   "outputs": [],
   "source": [
    "###################################################################################################3\n",
    "def collect_to_raw_data_table(animal_id, weight, equipment_id):\n",
    "    try:\n",
    "        data_status = 'NO'\n",
    "        event_time = datetime.now()\n",
    "        transfer_time = 'NULL'\n",
    "\n",
    "        conn = sq3.connect('main_database.db')\n",
    "        print(\"Opened database successfully\")\n",
    "        conn.execute(\"INSERT INTO RAW_DATA (ANIMAL_ID, EVENT_TIME, WEIGHT, EQUIPMENT_ID, RADATA_STATUS, TRANSFER_TIME ) VALUES(?, ?, ?, ?, ?, ?)\",\n",
    "                                            (animal_id, event_time, weight, equipment_id, data_status, transfer_time))\n",
    "        conn.commit()\n",
    "        conn.close()\n",
    "\n",
    "    except Exception as e:\n",
    "        print(\"Error to save data in \", e)\n",
    "    else:\n",
    "        return 0\n",
    "##################################################################################################"
   ]
  },
  {
   "cell_type": "code",
   "execution_count": 55,
   "metadata": {},
   "outputs": [
    {
     "name": "stdout",
     "output_type": "stream",
     "text": [
      "Opened database successfully\n"
     ]
    },
    {
     "data": {
      "text/plain": [
       "0"
      ]
     },
     "execution_count": 55,
     "metadata": {},
     "output_type": "execute_result"
    }
   ],
   "source": [
    "# raw table collect check\n",
    "animal_id = 'raw_test_data_table_function'\n",
    "weight = 500\n",
    "scales_type = 'sqlite_test'\n",
    "\n",
    "collect_to_raw_data_table(animal_id, weight, scales_type)"
   ]
  },
  {
   "cell_type": "markdown",
   "metadata": {},
   "source": [
    "# Insert spray data into table"
   ]
  },
  {
   "cell_type": "code",
   "execution_count": null,
   "metadata": {},
   "outputs": [],
   "source": [
    "cur = sq3.connect('main_database.db')\n",
    "print(\"Opened database successfully\")\n",
    "\n",
    "cur.execute(\"INSERT INTO SPRAY (CASE_ID, ANIMAL_ID, EQUPMWENT_ID, TYPE, STATUS, WAIT_TIME, DONE_TIME, DATA_STATUS, TRANSFER_TIME) \\\n",
    "    VALUES ('rfid_sql_test', datetime(strftime('%s','now'), 'unixepoch', 'localtime'), 300, 'model_sql_test', 'DONE', NULL, 'NO')\");\n",
    "\n",
    "cur.commit()\n",
    "print(\"Recodrs created succesfully\")\n",
    "cur.close()"
   ]
  },
  {
   "cell_type": "markdown",
   "metadata": {},
   "source": [
    "# Check spray status and insert into yes status"
   ]
  },
  {
   "cell_type": "code",
   "execution_count": null,
   "metadata": {},
   "outputs": [],
   "source": [
    "def spray(animal_id):\n",
    "    try:\n",
    "        conn = sq3.connect('main_database.db')\n",
    "        print(\"Opened database successfully\")\n",
    "\n",
    "        cursor = conn.execute(\"SELECT CASE_ID, ANIMAL_ID, EQUPMWENT_ID, TYPE, STATUS, WAIT_TIME, DONE_TIME, DATA_STATUS, TRANSFER_TIME from SPRAY\")\n",
    "\n",
    "        for row in cursor:\n",
    "            if row[5] == 'WAIT': # check status in table\n",
    "\n",
    "                #print(\"CASE_ID = \", row[0])\n",
    "                case_id = row[0]\n",
    "                #print(\"EVENT_TIME = \", row[1])\n",
    "                animal_id = row[1]\n",
    "                #print(\"EVENT_TIME = \", row[2])\n",
    "                event_time = row[2]\n",
    "                #print(\"WEIGHT = \", row[3])\n",
    "                weight = row[3]\n",
    "                #print(\"SCALES_TYPE = \", row[4])\n",
    "                scales_type = row[4]\n",
    "                #print(\"DATA_STATUS = \", row[7])\n",
    "                data_status = row[6]\n",
    "                #case_id = \n",
    "\n",
    "                # Function of sending data from database to smart-farm server\n",
    "                # def json_send_packet()\n",
    "                \n",
    "                #print(\"START SEND DATA TO SERVER:\")\n",
    "                url = 'http://194.4.56.86:8501/api/weights'\n",
    "                headers = {'Content-type': 'application/json'}\n",
    "                data = {\"AnimalNumber\" : animal_id,\n",
    "                        \"Date\" : event_time,\n",
    "                        \"Weight\" : weight,\n",
    "                        \"ScalesModel\" : scales_type}\n",
    "                answer = requests.post(url, data=json.dumps(data), headers=headers, timeout=10)\n",
    "                print(\"Answer from server: \", answer) # Is it possible to stop on this line in the debug?\n",
    "                print(answer.content)\n",
    "                print(row[0])\n",
    "\n",
    "                # Change status of DATA_STATUS in cows table from main_database \n",
    "                if 200 == answer.status_code:\n",
    "                    #print(\"This is part of change status in cows table Data status\")\n",
    "                    # change status\n",
    "                    data_for_query = ('YES', datetime.now() , row[0])\n",
    "                    sqlite_querry = \"\"\"UPDATE FIRST SET DATA_STATUS = ?, TRANSFER = ? WHERE CASE_ID = ?\"\"\"                 \n",
    "                    conn.execute(sqlite_querry, data_for_query)\n",
    "                    conn.commit()\n",
    "    except Exception as e:\n",
    "\n",
    "    else:\n",
    "    "
   ]
  },
  {
   "cell_type": "markdown",
   "metadata": {},
   "source": [
    "# Spray All function"
   ]
  },
  {
   "cell_type": "code",
   "execution_count": null,
   "metadata": {},
   "outputs": [],
   "source": [
    "# Spray all function # set al cows to spray\n",
    "\n"
   ]
  },
  {
   "cell_type": "markdown",
   "metadata": {},
   "source": [
    "# Send to server draft function"
   ]
  },
  {
   "cell_type": "code",
   "execution_count": null,
   "metadata": {},
   "outputs": [],
   "source": [
    "###################################################################################################3\n",
    "def Send_data_to_server(): # Sending data into Igor's server through JSON\n",
    "    try:\n",
    "        print(\"Extract data from database\")\n",
    "\n",
    "        # Extract info from cows table of main_database\n",
    "        #    \n",
    "        conn = sq3.connect('main_database.db')\n",
    "        print(\"Opened database successfully\")\n",
    "\n",
    "        cursor = conn.execute(\"SELECT CASE_ID, ANIMAL_ID, EVENT, WEIGHT, EQUIPMENT, DRINK_DURATION, DATA_STATUS, TRANSFER from FIRST\")\n",
    "\n",
    "        for row in cursor:\n",
    "            if row[6] == 'NO': # check status in table\n",
    "                #print(\"ANIMAL_ID = \", row[1])\n",
    "                animal_id = row[1]\n",
    "                #print(\"EVENT_TIME = \", row[2])\n",
    "                event_time = row[2]\n",
    "                #print(\"WEIGHT = \", row[3])\n",
    "                weight = row[3]\n",
    "                #print(\"SCALES_TYPE = \", row[4])\n",
    "                scales_type = row[4]\n",
    "                #print(\"DATA_STATUS = \", row[7])\n",
    "                data_status = row[6]\n",
    "                #case_id = \n",
    "\n",
    "                # Function of sending data from database to smart-farm server\n",
    "                # def json_send_packet()\n",
    "                \n",
    "                #print(\"START SEND DATA TO SERVER:\")\n",
    "                url = 'http://194.4.56.86:8501/api/weights'\n",
    "                headers = {'Content-type': 'application/json'}\n",
    "                data = {\"AnimalNumber\" : animal_id,\n",
    "                        \"Date\" : event_time,\n",
    "                        \"Weight\" : weight,\n",
    "                        \"ScalesModel\" : scales_type}\n",
    "                answer = requests.post(url, data=json.dumps(data), headers=headers, timeout=10)\n",
    "                print(\"Answer from server: \", answer) # Is it possible to stop on this line in the debug?\n",
    "                print(answer.content)\n",
    "                print(row[0])\n",
    "\n",
    "                # Change status of DATA_STATUS in cows table from main_database \n",
    "                if 200 == answer.status_code:\n",
    "                    #print(\"This is part of change status in cows table Data status\")\n",
    "                    # change status\n",
    "                    data_for_query = ('YES', datetime.now() , row[0])\n",
    "                    sqlite_querry = \"\"\"UPDATE FIRST SET DATA_STATUS = ?, TRANSFER = ? WHERE CASE_ID = ?\"\"\"                 \n",
    "                    conn.execute(sqlite_querry, data_for_query)\n",
    "                    conn.commit()\n",
    "          \n",
    "                    \n",
    "    except Exception as e:\n",
    "        print(\"Error send data to server\", e)\n",
    "    else:\n",
    "        print(\"Operation update database and sending to server done succesfully\")\n",
    "        conn.close()\n",
    "        return 0\n",
    "\n",
    "#######################################################################################\n",
    "\n",
    "# internet connection check function\n",
    "def check_internet_connection():\n",
    "    \"\"\" Returns True if there's a connection \"\"\"\n",
    "\n",
    "    IP_ADDRESS_LIST = [\n",
    "        \"1.1.1.1\",  # Cloudflare\n",
    "        \"1.0.0.1\",\n",
    "        \"8.8.8.8\",  # Google DNS\n",
    "        \"8.8.4.4\",\n",
    "        \"208.67.222.222\",  # Open DNS\n",
    "        \"208.67.220.220\"\n",
    "    ]\n",
    "\n",
    "    port = 53\n",
    "    timeout = 3\n",
    "\n",
    "    for host in IP_ADDRESS_LIST:\n",
    "        try:\n",
    "            socket.setdefaulttimeout(timeout)\n",
    "            socket.socket(socket.AF_INET, socket.SOCK_STREAM).connect((host, port))\n",
    "            return True\n",
    "        except socket.error:\n",
    "            pass\n",
    "    else:\n",
    "        print(\"No internet connection\")\n",
    "        return False \n",
    "\n",
    "# Check internet connection \n",
    "if check_internet_connection() == True :\n",
    "    Send_data_to_server()\n",
    "    Send_raw_data_to_server()\n",
    "else:\n",
    "    time.sleep(10)"
   ]
  },
  {
   "cell_type": "markdown",
   "metadata": {},
   "source": [
    "# Send to server from MAIN TABLE DATA"
   ]
  },
  {
   "cell_type": "code",
   "execution_count": 80,
   "metadata": {},
   "outputs": [
    {
     "name": "stdout",
     "output_type": "stream",
     "text": [
      "Extract data from database\n",
      "Opened database successfully\n",
      "Answer from server:  <Response [200]>\n",
      "b'101332'\n",
      "1\n",
      "Answer from server:  <Response [200]>\n",
      "b'101333'\n",
      "2\n",
      "Answer from server:  <Response [200]>\n",
      "b'101334'\n",
      "3\n",
      "Answer from server:  <Response [200]>\n",
      "b'101335'\n",
      "4\n",
      "Answer from server:  <Response [200]>\n",
      "b'101336'\n",
      "5\n",
      "Operation update database and sending to server done succesfully\n"
     ]
    },
    {
     "data": {
      "text/plain": [
       "0"
      ]
     },
     "execution_count": 80,
     "metadata": {},
     "output_type": "execute_result"
    }
   ],
   "source": [
    "# This function is select data from cows database then send is to Igos server\n",
    "########################################################################################\n",
    "def Send_data_to_server(): # Sending data into Igor's server through JSON\n",
    "    try:\n",
    "        print(\"Extract data from database\")\n",
    "\n",
    "        # Extract info from cows table of main_database\n",
    "        #    \n",
    "        conn = sq3.connect('main_database.db')\n",
    "        print(\"Opened database successfully\")\n",
    "\n",
    "        cursor = conn.execute(\"SELECT CASE_ID, ANIMAL_ID, EVENT_TIME, WEIGHT, SCALES_TYPE, LAST_DRINK_DURATION, MAIN_DATA_STATUS, TRANSFER_TIME from MAIN_DATA_TABLE\")\n",
    "\n",
    "        for row in cursor:\n",
    "            if row[6] == 'NO': # check status in table\n",
    "                #print(\"ANIMAL_ID = \", row[1])\n",
    "                animal_id = row[1]\n",
    "                #print(\"EVENT_TIME = \", row[2])\n",
    "                event_time = row[2]\n",
    "                #print(\"WEIGHT = \", row[3])\n",
    "                weight = row[3]\n",
    "                #print(\"SCALES_TYPE = \", row[4])\n",
    "                scales_type = row[4]\n",
    "                #print(\"DATA_STATUS = \", row[7])\n",
    "                data_status = row[6]\n",
    "                #case_id = \n",
    "\n",
    "                # Function of sending data from database to smart-farm server\n",
    "                # def json_send_packet()\n",
    "                \n",
    "                #print(\"START SEND DATA TO SERVER:\")\n",
    "                url = 'http://194.4.56.86:8501/api/weights'\n",
    "                headers = {'Content-type': 'application/json'}\n",
    "                data = {\"AnimalNumber\" : animal_id,\n",
    "                        \"Date\" : event_time,\n",
    "                        \"Weight\" : weight,\n",
    "                        \"ScalesModel\" : scales_type}\n",
    "                answer = requests.post(url, data=json.dumps(data), headers=headers, timeout=10)\n",
    "                print(\"Answer from server: \", answer) # Is it possible to stop on this line in the debug?\n",
    "                print(answer.content)\n",
    "                print(row[0])\n",
    "\n",
    "                # Change status of DATA_STATUS in cows table from main_database \n",
    "                if 200 == answer.status_code:\n",
    "                    #print(\"This is part of change status in cows table Data status\")\n",
    "                    # change status\n",
    "                    data_for_query = ('YES', datetime.now() , row[0])\n",
    "                    sqlite_querry = \"\"\"UPDATE MAIN_DATA_TABLE SET MAIN_DATA_STATUS = ?, DATA_TRANSFER_TIME = ? WHERE CASE_ID = ?\"\"\"                 \n",
    "                    conn.execute(sqlite_querry, data_for_query)\n",
    "                    conn.commit()\n",
    "          \n",
    "                    \n",
    "    except Exception as e:\n",
    "        print(\"Error send data to server\", e)\n",
    "    else:\n",
    "        print(\"Operation update database and sending to server done succesfully\")\n",
    "        conn.close()\n",
    "        return 0\n",
    "\n",
    "###########################################################################################\n",
    "\n",
    "Send_data_to_server()"
   ]
  },
  {
   "cell_type": "markdown",
   "metadata": {},
   "source": [
    "# Send to server from RAW TABLE DATA"
   ]
  },
  {
   "cell_type": "code",
   "execution_count": null,
   "metadata": {},
   "outputs": [],
   "source": [
    "# This function is select data from raw database then send is to Igos server\n",
    "###########################################################################################################\n",
    "def Send_raw_data_to_server(): # Sending data into Igor's server through JSON\n",
    "    try:\n",
    "        print(\"Extract data from raw database\")\n",
    "\n",
    "        # Extract info from cows table of main_database\n",
    "        #    \n",
    "        conn = sq3.connect('main_database.db')\n",
    "        print(\"Opened raw database successfully\")\n",
    "\n",
    "        cursor = conn.execute(\"SELECT CASE_ID, ANIMAL_ID, EVENT_TIME, WEIGHT, EQUIPMENT_ID, DATA_STATUS, TRANSFER_TIME from RAW_DATA\")\n",
    "\n",
    "        for row in cursor:\n",
    "            if row[6] == 'NO': # check status in table\n",
    "                #print(\"ANIMAL_ID = \", row[1])\n",
    "                animal_id = row[1]\n",
    "                #print(\"EVENT_TIME = \", row[2])\n",
    "                event_time = row[2]\n",
    "                #print(\"WEIGHT = \", row[3])\n",
    "                weight = row[3]\n",
    "                #print(\"EQUIPMENT_ID = \", row[4])\n",
    "                equipment_id = row[4]\n",
    "                #print(\"DATA_STATUS = \", row[5])\n",
    "                data_status = row[5]\n",
    "                #case_id = \n",
    "\n",
    "                # Function of sending data from database to smart-farm server\n",
    "                # def json_send_packet()\n",
    "                \n",
    "                #print(\"START SEND DATA TO SERVER:\")\n",
    "                url = 'http://194.4.56.86:8501/api/RawWeights'\n",
    "                headers = {'Content-type': 'application/json'}\n",
    "                data = {\"AnimalNumber\" : animal_id,\n",
    "                        \"Date\" : event_time,\n",
    "                        \"Weight\" : weight,\n",
    "                        \"ScalesModel\" : equipment_id}\n",
    "                answer = requests.post(url, data=json.dumps(data), headers=headers, timeout=10)\n",
    "                print(\"Answer from server: \", answer) # Is it possible to stop on this line in the debug?\n",
    "                print(answer.content)\n",
    "                print(row[0])\n",
    "\n",
    "                # Change status of DATA_STATUS in cows table from main_database \n",
    "                if 200 == answer.status_code:\n",
    "                    #print(\"This is part of change status in cows table Data status\")\n",
    "                    # change status\n",
    "                    data_for_query = ('YES', datetime.now() , row[0])\n",
    "                    sqlite_querry = \"\"\"UPDATE RAW_DATA SET DATA_STATUS = ?, TRANSFER_TIME = ? WHERE CASE_ID = ?\"\"\"                 \n",
    "                    conn.execute(sqlite_querry, data_for_query)\n",
    "                    conn.commit()\n",
    "          \n",
    "                    \n",
    "    except Exception as e:\n",
    "        print(\"Error send data to raw data server\", e)\n",
    "    else:\n",
    "        print(\"Operation update raw table of database and sending to server done succesfully\")\n",
    "        conn.close()\n",
    "        return 0\n",
    "#######################################################################################\n",
    "\n",
    "\n",
    "Send_raw_data_to_server()\n",
    "\n"
   ]
  },
  {
   "cell_type": "markdown",
   "metadata": {},
   "source": [
    "# Internet connection test"
   ]
  },
  {
   "cell_type": "code",
   "execution_count": 66,
   "metadata": {},
   "outputs": [
    {
     "name": "stdout",
     "output_type": "stream",
     "text": [
      "True\n"
     ]
    }
   ],
   "source": [
    "# Exmple from internet\n",
    "def check_internet_connection():\n",
    "    \"\"\" Returns True if there's a connection \"\"\"\n",
    "\n",
    "    IP_ADDRESS_LIST = [\n",
    "        \"1.1.1.1\",  # Cloudflare\n",
    "        \"1.0.0.1\",\n",
    "        \"8.8.8.8\",  # Google DNS\n",
    "        \"8.8.4.4\",\n",
    "        \"208.67.222.222\",  # Open DNS\n",
    "        \"208.67.220.220\"\n",
    "    ]\n",
    "\n",
    "    port = 53\n",
    "    timeout = 3\n",
    "\n",
    "    for host in IP_ADDRESS_LIST:\n",
    "        try:\n",
    "            socket.setdefaulttimeout(timeout)\n",
    "            socket.socket(socket.AF_INET, socket.SOCK_STREAM).connect((host, port))\n",
    "            return True\n",
    "        except socket.error:\n",
    "            pass\n",
    "    else:\n",
    "        print(\"No internet connection\")\n",
    "        return False \n",
    "\n",
    "print(check_internet_connection())\n"
   ]
  },
  {
   "cell_type": "code",
   "execution_count": 5,
   "metadata": {},
   "outputs": [
    {
     "data": {
      "text/plain": [
       "0"
      ]
     },
     "execution_count": 5,
     "metadata": {},
     "output_type": "execute_result"
    }
   ],
   "source": [
    "def print_log(message = None, value = None): # Function to logging and printing messages into terminal for debug\n",
    "    #logging.info(message)\n",
    "    #if value != None:\n",
    "        #logging.info(value)\n",
    "    #print(message)\n",
    "    #if value != None:\n",
    "        #print(value)\n",
    "    return 0\n",
    "\n",
    "print_log()"
   ]
  },
  {
   "cell_type": "code",
   "execution_count": 1,
   "metadata": {},
   "outputs": [],
   "source": [
    "import logging\n",
    "from datetime import datetime, date, time"
   ]
  },
  {
   "cell_type": "code",
   "execution_count": 2,
   "metadata": {},
   "outputs": [
    {
     "name": "stdout",
     "output_type": "stream",
     "text": [
      "start\n",
      "run\n"
     ]
    },
    {
     "data": {
      "text/plain": [
       "0"
      ]
     },
     "execution_count": 2,
     "metadata": {},
     "output_type": "execute_result"
    }
   ],
   "source": [
    "# Test of new log file name\n",
    "logging.basicConfig(filename = '%s.log'%str(datetime.now().strftime(\"%Y-%m-%d_%H_%M_%S\")), level = logging.DEBUG, format='[%(filename)s_%(lineno)s - %(funcName)20s() ] %(asctime)s %(message)s')\n",
    "\n",
    "\n",
    "\n",
    "def print_log(message = None, value = None): # Function to logging and printing messages into terminal for debug\n",
    "    logging.info(message)\n",
    "    if value != None:\n",
    "        logging.info(value)\n",
    "    print(message)\n",
    "    if value != None:\n",
    "        print(value)\n",
    "    return 0\n",
    "\n",
    "\n",
    "print_log('start', 'run')"
   ]
  }
 ],
 "metadata": {
  "interpreter": {
   "hash": "31f2aee4e71d21fbe5cf8b01ff0e069b9275f58929596ceb00d14d90e3e16cd6"
  },
  "kernelspec": {
   "display_name": "Python 3.8.10 64-bit",
   "language": "python",
   "name": "python3"
  },
  "language_info": {
   "codemirror_mode": {
    "name": "ipython",
    "version": 3
   },
   "file_extension": ".py",
   "mimetype": "text/x-python",
   "name": "python",
   "nbconvert_exporter": "python",
   "pygments_lexer": "ipython3",
   "version": "3.10.4"
  },
  "orig_nbformat": 4
 },
 "nbformat": 4,
 "nbformat_minor": 2
}
