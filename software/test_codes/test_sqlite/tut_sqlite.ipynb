{
 "cells": [
  {
   "cell_type": "markdown",
   "metadata": {},
   "source": [
    "# Import libraries"
   ]
  },
  {
   "cell_type": "code",
   "execution_count": 2,
   "metadata": {},
   "outputs": [],
   "source": [
    "#!/usr/bin/python\n",
    "import sqlite3 as sq3\n",
    "from datetime import datetime\n",
    "import requests\n",
    "import json"
   ]
  },
  {
   "cell_type": "markdown",
   "metadata": {},
   "source": [
    "# Create databases and tables"
   ]
  },
  {
   "cell_type": "code",
   "execution_count": 14,
   "metadata": {},
   "outputs": [
    {
     "name": "stdout",
     "output_type": "stream",
     "text": [
      "Opened database successfully\n",
      "main table created successfully\n",
      "Opened database successfully\n",
      "Spray table created successfully\n",
      "Opened database successfully\n",
      "Data table created successfully\n",
      "Opened database successfully\n",
      "Raw table Created successfully\n"
     ]
    }
   ],
   "source": [
    "# First table\n",
    "cur = sq3.connect(\"main_database.db\")\n",
    "print(\"Opened database successfully\")\n",
    "\n",
    "cur.execute('''CREATE TABLE FIRST_TABLE\n",
    "            (CASE_ID            INTEGER PRIMARY KEY  AUTOINCREMENT,\n",
    "            ANIMAL_ID               TEXT                NOT NULL,\n",
    "            EVENT_TIME              DATETIME            NOT NULL,\n",
    "            WEIGHT                  DOUBLE              NOT NULL,\n",
    "            SCALES_TYPE             TEXT                NOT NULL);''')\n",
    "\n",
    "\n",
    "print(\"main table created successfully\")\n",
    "cur.close()\n",
    "\n",
    "\n",
    "\n",
    "cur = sq3.connect(\"main_database.db\")\n",
    "print(\"Opened database successfully\")\n",
    "\n",
    "cur.execute('''CREATE TABLE DATA_TABLE \n",
    "            (DATA_ID                 INTEGER PRIMARY KEY AUTOINCREMENT,\n",
    "            DATA_STATUS             TEXT CHECK( DATA_STATUS IN ('YES','NO') )   NOT NULL DEFAULT 'NO',\n",
    "            DATA_TRANSFER_TIME      DATETIME);''')\n",
    "\n",
    "print(\"Data table created successfully\")\n",
    "cur.close()\n",
    "\n",
    "\n",
    "cur = sq3.connect(\"main_database.db\")\n",
    "print(\"Opened database successfully\")\n",
    "\n",
    "cur.execute('''CREATE TABLE SPRAY_TABLE \n",
    "            (SPRAY_ID                INTEGER PRIMARY KEY  AUTOINCREMENT,\n",
    "            SPRAY_STATUS            TEXT CHECK( SPRAY_STATUS IN ('NONE','DONE', 'WAIT') )   NOT NULL DEFAULT 'NONE',\n",
    "            SPRAY_WAIT_TIME         DATETIME,\n",
    "            SPRAY_DONE_TIME         DATETIME);''')\n",
    "\n",
    "\n",
    "print(\"Spray table created successfully\")\n",
    "cur.close()\n",
    "\n",
    "\n",
    "cur = sq3.connect(\"main_database.db\")\n",
    "print(\"Opened database successfully\")\n",
    "\n",
    "cur.execute('''CREATE TABLE RAW_DATA\n",
    "            (RAW_CASE_ID           INTEGER PRIMARY KEY      AUTOINCREMENT,  \n",
    "            ANIMAL_ID              TEXT                 NOT NULL,\n",
    "            EVENT_TIME             DATETIME             NOT NULL,\n",
    "            WEIGHT                 DOUBLE               NOT NULL,\n",
    "            SCALES_TYPE            TEXT                 NOT NULL);''')\n",
    "\n",
    "print(\"Raw table Created successfully\")\n",
    "cur.close()"
   ]
  },
  {
   "cell_type": "markdown",
   "metadata": {},
   "source": [
    "# Insert test data"
   ]
  },
  {
   "cell_type": "code",
   "execution_count": 23,
   "metadata": {},
   "outputs": [
    {
     "name": "stdout",
     "output_type": "stream",
     "text": [
      "Opened database successfully\n",
      "Recodrs created succesfully\n"
     ]
    }
   ],
   "source": [
    "cur = sq3.connect('main_database.db')\n",
    "print(\"Opened database successfully\")\n",
    "\n",
    "cur.execute(\"INSERT INTO COWS (ANIMAL_ID, EVENT_TIME, WEIGHT, SCALES_TYPE, SPRAY_STATUS, SPRAY_TIME,  DATA_STATUS) \\\n",
    "    VALUES ('rfid_sql_test', datetime(strftime('%s','now'), 'unixepoch', 'localtime'), 300, 'model_sql_test', 'DONE', NULL, 'NO')\");\n",
    "\n",
    "cur.execute(\"INSERT INTO COWS (ANIMAL_ID, EVENT_TIME, WEIGHT, SCALES_TYPE, SPRAY_STATUS, SPRAY_TIME,  DATA_STATUS) \\\n",
    "    VALUES ('rfid_sql_test', datetime(strftime('%s','now'), 'unixepoch', 'localtime'), 340, 'model_sql_test', 'WAIT', NULL, 'NO')\");\n",
    "\n",
    "cur.execute(\"INSERT INTO COWS (ANIMAL_ID, EVENT_TIME, WEIGHT, SCALES_TYPE, SPRAY_STATUS, SPRAY_TIME,  DATA_STATUS) \\\n",
    "    VALUES ('rfid_sql_test', datetime(strftime('%s','now'), 'unixepoch', 'localtime') , 349, 'model_sql_test', 'NONE', NULL, 'NO')\");\n",
    "\n",
    "cur.execute(\"INSERT INTO RAW_DATA(ANIMAL_ID, EVENT_TIME, WEIGHT, SCALES_TYPE) \\\n",
    "    VALUES ('rfid_sql_test', datetime(strftime('%s','now'), 'unixepoch', 'localtime'), 290, 'model_sql_test')\");\n",
    "\n",
    "cur.execute(\"INSERT INTO RAW_DATA(ANIMAL_ID, EVENT_TIME, WEIGHT, SCALES_TYPE) \\\n",
    "    VALUES ('rfid_sql_test', datetime(strftime('%s','now'), 'unixepoch', 'localtime'), 300, 'model_sql_test')\");\n",
    "\n",
    "cur.execute(\"INSERT INTO RAW_DATA(ANIMAL_ID, EVENT_TIME, WEIGHT, SCALES_TYPE) \\\n",
    "    VALUES ('rfid_sql_test', datetime(strftime('%s','now'), 'unixepoch', 'localtime'), 300, 'model_sql_test')\");\n",
    "\n",
    "cur.execute(\"INSERT INTO RAW_DATA(ANIMAL_ID, EVENT_TIME, WEIGHT, SCALES_TYPE) \\\n",
    "    VALUES ('rfid_sql_test', datetime(strftime('%s','now'), 'unixepoch', 'localtime'), 300, 'model_sql_test')\");\n",
    "\n",
    "cur.execute(\"INSERT INTO RAW_DATA(ANIMAL_ID, EVENT_TIME, WEIGHT, SCALES_TYPE) \\\n",
    "    VALUES ('rfid_sql_test', datetime(strftime('%s','now'), 'unixepoch', 'localtime'), 300, 'model_sql_test')\");\n",
    "\n",
    "\n",
    "cur.commit()\n",
    "print(\"Recodrs created succesfully\")\n",
    "cur.close()"
   ]
  },
  {
   "cell_type": "code",
   "execution_count": 30,
   "metadata": {},
   "outputs": [
    {
     "name": "stdout",
     "output_type": "stream",
     "text": [
      "Opened database successfully\n",
      "ID =  1\n",
      "ANIMAL_ID =  rfid01\n",
      "EVENT_TIME =  2022-05-28 12:08:08\n",
      "WEIGHT =  300.0\n",
      "SCALES_TYPE =  model_sql_test\n",
      "SPRAY_STATUS =  DONE\n",
      "SPRAY_TIME =  2022-05-28 12:08:08\n",
      "DATA_STATUS =  NO\n",
      "DATA_TRANSFER_TIME =  None \n",
      "\n",
      "ID =  2\n",
      "ANIMAL_ID =  rfid02\n",
      "EVENT_TIME =  2022-05-28 12:08:08\n",
      "WEIGHT =  340.0\n",
      "SCALES_TYPE =  model_sql_test\n",
      "SPRAY_STATUS =  WAIT\n",
      "SPRAY_TIME =  2022-05-28 12:08:08\n",
      "DATA_STATUS =  YES\n",
      "DATA_TRANSFER_TIME =  None \n",
      "\n",
      "ID =  3\n",
      "ANIMAL_ID =  rfid03\n",
      "EVENT_TIME =  2022-05-28 12:08:08\n",
      "WEIGHT =  349.0\n",
      "SCALES_TYPE =  model_sql_test\n",
      "SPRAY_STATUS =  NONE\n",
      "SPRAY_TIME =  2022-05-28 12:08:08\n",
      "DATA_STATUS =  NO\n",
      "DATA_TRANSFER_TIME =  None \n",
      "\n",
      "ID =  4\n",
      "ANIMAL_ID =  rfid01\n",
      "EVENT_TIME =  2022-05-28 12:22:43\n",
      "WEIGHT =  300.0\n",
      "SCALES_TYPE =  model_sql_test\n",
      "SPRAY_STATUS =  DONE\n",
      "SPRAY_TIME =  2022-05-28 12:22:43\n",
      "DATA_STATUS =  NO\n",
      "DATA_TRANSFER_TIME =  None \n",
      "\n",
      "ID =  5\n",
      "ANIMAL_ID =  rfid02\n",
      "EVENT_TIME =  2022-05-28 12:22:43\n",
      "WEIGHT =  340.0\n",
      "SCALES_TYPE =  model_sql_test\n",
      "SPRAY_STATUS =  WAIT\n",
      "SPRAY_TIME =  2022-05-28 12:22:43\n",
      "DATA_STATUS =  YES\n",
      "DATA_TRANSFER_TIME =  None \n",
      "\n",
      "ID =  6\n",
      "ANIMAL_ID =  rfid03\n",
      "EVENT_TIME =  2022-05-28 12:22:43\n",
      "WEIGHT =  349.0\n",
      "SCALES_TYPE =  model_sql_test\n",
      "SPRAY_STATUS =  NONE\n",
      "SPRAY_TIME =  2022-05-28 12:22:43\n",
      "DATA_STATUS =  NO\n",
      "DATA_TRANSFER_TIME =  None \n",
      "\n",
      "Operation done succesfully\n"
     ]
    }
   ],
   "source": [
    "conn = sq3.connect('main_database.db')\n",
    "print(\"Opened database successfully\")\n",
    "\n",
    "cursor = conn.execute(\"SELECT CASE_ID, ANIMAL_ID, EVENT_TIME, WEIGHT, SCALES_TYPE, SPRAY_STATUS, SPRAY_TIME, DATA_STATUS, DATA_TRANSFER_TIME from COWS\")\n",
    "\n",
    "for row in cursor:\n",
    "    print(\"ID = \", row[0])\n",
    "    print(\"ANIMAL_ID = \", row[1])\n",
    "    print(\"EVENT_TIME = \", row[2])\n",
    "    print(\"WEIGHT = \", row[3])\n",
    "    print(\"SCALES_TYPE = \", row[4])\n",
    "    print(\"SPRAY_STATUS = \", row[5])\n",
    "    print(\"SPRAY_TIME = \", row[6])\n",
    "    print(\"DATA_STATUS = \", row[7])\n",
    "    print(\"DATA_TRANSFER_TIME = \", row[8], \"\\n\")\n",
    "\n",
    "print(\"Operation done succesfully\")\n",
    "conn.close()\n"
   ]
  },
  {
   "cell_type": "code",
   "execution_count": 25,
   "metadata": {},
   "outputs": [],
   "source": [
    "case_id = 3\n",
    "animal_id = '4rfid4'\n",
    "event_time = datetime.now().strftime(\"%d/%m/%Y %H:%M:%S\")\n",
    "weight_finall = 343\n",
    "scales_type = 'model_sql_dyn_var'\n",
    "spray_status = 'DONE'\n",
    "data_status = 'YES'"
   ]
  },
  {
   "cell_type": "markdown",
   "metadata": {},
   "source": [
    "# Insert into first table"
   ]
  },
  {
   "cell_type": "code",
   "execution_count": 39,
   "metadata": {},
   "outputs": [
    {
     "name": "stdout",
     "output_type": "stream",
     "text": [
      "Opened database successfully\n",
      "Operation done succesfully\n"
     ]
    }
   ],
   "source": [
    "conn = sq3.connect('main_database.db')\n",
    "print(\"Opened database successfully\")\n",
    "\n",
    "conn.execute(\"INSERT INTO COWS (ANIMAL_ID, EVENT_TIME, WEIGHT, SCALES_TYPE, SPRAY_STATUS, DATA_STATUS) VALUES( ?, ?, ?, ?, ?, ?)\",\n",
    "                                (animal_id, event_time, weight_finall, scales_type, spray_status, data_status))\n",
    "conn.commit()\n",
    "conn.close()\n",
    "\n",
    "print(\"Operation done succesfully\")\n",
    "conn.close()\n"
   ]
  },
  {
   "cell_type": "markdown",
   "metadata": {},
   "source": [
    "# Insert into data table"
   ]
  },
  {
   "cell_type": "code",
   "execution_count": 4,
   "metadata": {},
   "outputs": [],
   "source": []
  },
  {
   "cell_type": "markdown",
   "metadata": {},
   "source": [
    "# Insert into spray table"
   ]
  },
  {
   "cell_type": "code",
   "execution_count": null,
   "metadata": {},
   "outputs": [],
   "source": []
  },
  {
   "cell_type": "markdown",
   "metadata": {},
   "source": [
    "# Insert into raw data"
   ]
  },
  {
   "cell_type": "markdown",
   "metadata": {},
   "source": []
  },
  {
   "cell_type": "markdown",
   "metadata": {},
   "source": [
    "# Send to server draft function"
   ]
  },
  {
   "cell_type": "code",
   "execution_count": null,
   "metadata": {},
   "outputs": [],
   "source": [
    "# Check internet connection \n",
    "\n",
    "# Collect to database function \n",
    "def collect_to_database(animal_id, weight_finall, scales_type):\n",
    "    try:\n",
    "        spray_time = NULL\n",
    "        data_status = NULL\n",
    "        spray_time = NULL\n",
    "\n",
    "        conn = sq3.connect('main_database.db')\n",
    "        print(\"Opened database successfully\")\n",
    "        conn.execute(\"INSERT INTO COWS (CASE_ID, ANIMAL_ID, EVENT_TIME, WEIGHT, SCALES_TYPE, SPRAY_STATUS, SPRAY_TIME, DATA_STATUS, DATA_TRANSFER_TIME ) VALUES(?, ?, ?, ?, ?, ?, ?, ?)\",\n",
    "                                            (animal_id, event_time, weight_finall, scales_type, spray_status, spray_time, data_status, ))\n",
    "        conn.commit()\n",
    "        conn.close()\n",
    "\n",
    "    except Exception as e:\n",
    "        print(\"Error to save data in \", e)\n",
    "    else:\n",
    "        return 0\n"
   ]
  },
  {
   "cell_type": "markdown",
   "metadata": {},
   "source": [
    "# Send to server first table data"
   ]
  },
  {
   "cell_type": "code",
   "execution_count": 24,
   "metadata": {},
   "outputs": [
    {
     "name": "stdout",
     "output_type": "stream",
     "text": [
      "Extract data from database\n",
      "Opened database successfully\n",
      "Answer from server:  <Response [200]>\n",
      "b'100796'\n",
      "28\n",
      "Answer from server:  <Response [200]>\n",
      "b'100797'\n",
      "30\n",
      "Answer from server:  <Response [200]>\n",
      "b'100798'\n",
      "31\n",
      "Answer from server:  <Response [200]>\n",
      "b'100799'\n",
      "33\n",
      "Answer from server:  <Response [200]>\n",
      "b'100800'\n",
      "34\n",
      "Answer from server:  <Response [200]>\n",
      "b'100801'\n",
      "35\n",
      "Answer from server:  <Response [200]>\n",
      "b'100802'\n",
      "36\n",
      "4 step send data\n",
      "Operation done succesfully\n"
     ]
    }
   ],
   "source": [
    "# This function is select data from cows database then send is to Igos server\n",
    "\n",
    "def Send_data_to_server(): # Sending data into Igor's server through JSON\n",
    "    try:\n",
    "        print(\"Extract data from database\")\n",
    "\n",
    "        # Extract info from cows table of main_database\n",
    "        #    \n",
    "        conn = sq3.connect('main_database.db')\n",
    "        print(\"Opened database successfully\")\n",
    "\n",
    "        cursor = conn.execute(\"SELECT CASE_ID, ANIMAL_ID, EVENT_TIME, WEIGHT, SCALES_TYPE, SPRAY_STATUS, SPRAY_TIME, DATA_STATUS, DATA_TRANSFER_TIME from COWS\")\n",
    "\n",
    "        for row in cursor:\n",
    "            if row[7] == 'NO': # check status in table\n",
    "                #print(\"ANIMAL_ID = \", row[1])\n",
    "                animal_id = row[1]\n",
    "                #print(\"EVENT_TIME = \", row[2])\n",
    "                event_time = row[2]\n",
    "                #print(\"WEIGHT = \", row[3])\n",
    "                weight_finall = row[3]\n",
    "                #print(\"SCALES_TYPE = \", row[4])\n",
    "                scales_type = row[4]\n",
    "                #print(\"DATA_STATUS = \", row[7])\n",
    "                data_status = row[7]\n",
    "                #case_id = \n",
    "\n",
    "                # Function of sending data from database to smart-farm server\n",
    "                # def json_send_packet()\n",
    "                \n",
    "                #print(\"START SEND DATA TO SERVER:\")\n",
    "                url = 'http://194.4.56.86:8501/api/weights'\n",
    "                headers = {'Content-type': 'application/json'}\n",
    "                data = {\"AnimalNumber\" : animal_id,\n",
    "                        \"Date\" : event_time,\n",
    "                        \"Weight\" : weight_finall,\n",
    "                        \"ScalesModel\" : scales_type}\n",
    "                answer = requests.post(url, data=json.dumps(data), headers=headers)\n",
    "                print(\"Answer from server: \", answer) # Is it possible to stop on this line in the debug?\n",
    "                print(answer.content)\n",
    "                print(row[0])\n",
    "\n",
    "                # Change status of DATA_STATUS in cows table from main_database \n",
    "                if 200 == answer.status_code:\n",
    "                    #print(\"This is part of change status in cows table Data status\")\n",
    "                    # change status\n",
    "                    data_for_query = ('YES', datetime.now() , row[0])\n",
    "                    sqlite_querry = \"\"\"UPDATE COWS SET DATA_STATUS = ?, DATA_TRANSFER_TIME = ? WHERE CASE_ID = ?\"\"\"                 \n",
    "                    conn.execute(sqlite_querry, data_for_query)\n",
    "                    conn.commit()\n",
    "          \n",
    "                    \n",
    "    except Exception as e:\n",
    "        print(\"Error send data to server\", e)\n",
    "    else:\n",
    "        print(\"Operation update database and sending to server done succesfully\")\n",
    "        conn.close()\n",
    "        return 0\n",
    "\n",
    "\n",
    "\n",
    "Send_data_to_server()\n"
   ]
  },
  {
   "cell_type": "code",
   "execution_count": 13,
   "metadata": {},
   "outputs": [
    {
     "name": "stdout",
     "output_type": "stream",
     "text": [
      " <Response [200]>\n",
      "This is part of change status in cows table Data status\n",
      " <Response [200]>\n",
      "<Response [200]>\n"
     ]
    }
   ],
   "source": [
    "print(\" <Response [200]>\")\n",
    "answer_200 = \" <Response [200]>\"\n",
    "\n",
    "if answer_200 == \" <Response [200]>\":\n",
    "    print(\"This is part of change status in cows table Data status\")\n",
    "    print(answer_200)\n",
    "    print(\"<Response [200]>\")"
   ]
  },
  {
   "cell_type": "code",
   "execution_count": 33,
   "metadata": {},
   "outputs": [],
   "source": [
    "conn = sq3.connect('main_database.db')\n",
    "data_for_query = ('YES', 1)\n",
    "sqlite_querry = \"\"\"UPDATE COWS SET DATA_STATUS = ? WHERE CASE_ID = ?\"\"\"\n",
    "conn.execute(sqlite_querry, data_for_query)\n",
    "conn.commit()\n",
    "conn.close()"
   ]
  }
 ],
 "metadata": {
  "interpreter": {
   "hash": "31f2aee4e71d21fbe5cf8b01ff0e069b9275f58929596ceb00d14d90e3e16cd6"
  },
  "kernelspec": {
   "display_name": "Python 3.8.10 64-bit",
   "language": "python",
   "name": "python3"
  },
  "language_info": {
   "codemirror_mode": {
    "name": "ipython",
    "version": 3
   },
   "file_extension": ".py",
   "mimetype": "text/x-python",
   "name": "python",
   "nbconvert_exporter": "python",
   "pygments_lexer": "ipython3",
   "version": "3.10.4"
  },
  "orig_nbformat": 4
 },
 "nbformat": 4,
 "nbformat_minor": 2
}
