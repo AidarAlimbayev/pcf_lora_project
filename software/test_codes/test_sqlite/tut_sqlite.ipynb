{
 "cells": [
  {
   "cell_type": "markdown",
   "metadata": {},
   "source": [
    "# intro"
   ]
  },
  {
   "cell_type": "code",
   "execution_count": 9,
   "metadata": {},
   "outputs": [],
   "source": [
    "#!/usr/bin/python\n",
    "import sqlite3 as sq3\n",
    "from datetime import datetime"
   ]
  },
  {
   "cell_type": "markdown",
   "metadata": {},
   "source": [
    "# Create databases and tables"
   ]
  },
  {
   "cell_type": "markdown",
   "metadata": {},
   "source": [
    "main database"
   ]
  },
  {
   "cell_type": "code",
   "execution_count": 10,
   "metadata": {},
   "outputs": [
    {
     "name": "stdout",
     "output_type": "stream",
     "text": [
      "Opened database successfully\n",
      "Table Created successfully\n",
      "Opened database successfully\n",
      "Table Created successfully\n"
     ]
    }
   ],
   "source": [
    "cur = sq3.connect(\"main_database.db\")\n",
    "print(\"Opened database successfully\")\n",
    "\n",
    "cur.execute('''CREATE TABLE COWS\n",
    "            (CASE_ID INT PRIMARY KEY        NOT NULL,\n",
    "            ANIMAL_ID               TEXT    NOT NULL,\n",
    "            EVENT_TIME              TEXT    NOT NULL,\n",
    "            WEIGHT                  INT     NOT NULL,\n",
    "            SCALES_TYPE             TEXT    NOT NULL,\n",
    "            SPRAY_STATUS            TEXT    NOT NULL,\n",
    "            DATA_STATUS             TEXT    NOT NULL);''')\n",
    "\n",
    "print(\"Table Created successfully\")\n",
    "cur.close()\n",
    "\n",
    "# cur = sq3.connect(\"main_database.db\")\n",
    "# print(\"Opened database successfully\")\n",
    "\n",
    "# cur.execute('''CREATE TABLE RAW_DATA\n",
    "#             (ANIMAL_ID               TEXT    NOT NULL,\n",
    "#             EVENT_TIME              TEXT    NOT NULL,\n",
    "#             WEIGHT                  INT     NOT NULL,\n",
    "#             SCALES_TYPE             TEXT    NOT NULL);''')\n",
    "\n",
    "# print(\"Table Created successfully\")\n",
    "# cur.close()\n",
    "\n",
    "cur = sq3.connect(\"main_database.db\")\n",
    "print(\"Opened database successfully\")\n",
    "\n",
    "cur.execute('''CREATE TABLE RAW_DATA\n",
    "            (RAW_CASE_ID           INT PRIMARY KEY,  \n",
    "            ANIMAL_ID              TEXT    NOT NULL,\n",
    "            EVENT_TIME             TEXT    NOT NULL,\n",
    "            WEIGHT                 INT     NOT NULL,\n",
    "            SCALES_TYPE            TEXT    NOT NULL,\n",
    "            FOREIGN KEY(ANIMAL_ID) REFERENCES COWS(ANIMAL_ID));''')\n",
    "\n",
    "print(\"Table Created successfully\")\n",
    "cur.close()\n",
    "\n",
    "\n",
    "\n"
   ]
  },
  {
   "cell_type": "markdown",
   "metadata": {},
   "source": [
    "# Insert Operations"
   ]
  },
  {
   "cell_type": "code",
   "execution_count": 11,
   "metadata": {},
   "outputs": [
    {
     "name": "stdout",
     "output_type": "stream",
     "text": [
      "Opened database successfully\n",
      "Recodrs created succesfully\n"
     ]
    }
   ],
   "source": [
    "cur = sq3.connect('main_database.db')\n",
    "print(\"Opened database successfully\")\n",
    "\n",
    "cur.execute(\"INSERT INTO COWS (CASE_ID, ANIMAL_ID, EVENT_TIME, WEIGHT, SCALES_TYPE, SPRAY_STATUS, DATA_STATUS) \\\n",
    "    VALUES (1, 'rfid01', '25052022', 300, 'model_sql_test', 'DONE', 'NO')\");\n",
    "\n",
    "cur.execute(\"INSERT INTO COWS (CASE_ID, ANIMAL_ID, EVENT_TIME, WEIGHT, SCALES_TYPE, SPRAY_STATUS, DATA_STATUS) \\\n",
    "    VALUES (2, 'rfid02', '25052022', 340, 'model_sql_test', 'WAIT', 'YES')\");\n",
    "\n",
    "cur.execute(\"INSERT INTO RAW_DATA(RAW_CASE_ID, ANIMAL_ID, EVENT_TIME, WEIGHT, SCALES_TYPE) \\\n",
    "    VALUES (1, 'rfid02', '25052022', 290, 'model_sql_test')\");\n",
    "\n",
    "\n",
    "cur.commit()\n",
    "print(\"Recodrs created succesfully\")\n",
    "cur.close()"
   ]
  },
  {
   "cell_type": "code",
   "execution_count": 13,
   "metadata": {},
   "outputs": [
    {
     "name": "stdout",
     "output_type": "stream",
     "text": [
      "Opened database successfully\n",
      "ID =  1\n",
      "ANIMAL_ID =  rfid01\n",
      "EVENT_TIME =  25052022\n",
      "WEIGHT =  300\n",
      "SCALES_TYPE =  model_sql_test\n",
      "SPRAY_STATUS =  DONE\n",
      "DATA_STATUS =  NO \n",
      "\n",
      "ID =  2\n",
      "ANIMAL_ID =  rfid02\n",
      "EVENT_TIME =  25052022\n",
      "WEIGHT =  340\n",
      "SCALES_TYPE =  model_sql_test\n",
      "SPRAY_STATUS =  WAIT\n",
      "DATA_STATUS =  YES \n",
      "\n",
      "Operation done succesfully\n"
     ]
    }
   ],
   "source": [
    "conn = sq3.connect('main_database.db')\n",
    "print(\"Opened database successfully\")\n",
    "\n",
    "cursor = conn.execute(\"SELECT CASE_ID, ANIMAL_ID, EVENT_TIME, WEIGHT, SCALES_TYPE, SPRAY_STATUS, DATA_STATUS from COWS\")\n",
    "\n",
    "for row in cursor:\n",
    "    print(\"ID = \", row[0])\n",
    "    print(\"ANIMAL_ID = \", row[1])\n",
    "    print(\"EVENT_TIME = \", row[2])\n",
    "    print(\"WEIGHT = \", row[3])\n",
    "    print(\"SCALES_TYPE = \", row[4])\n",
    "    print(\"SPRAY_STATUS = \", row[5])\n",
    "    print(\"DATA_STATUS = \", row[6], \"\\n\")\n",
    "\n",
    "print(\"Operation done succesfully\")\n",
    "conn.close()\n"
   ]
  },
  {
   "cell_type": "code",
   "execution_count": 14,
   "metadata": {},
   "outputs": [],
   "source": [
    "case_id = 3\n",
    "animal_id = '4rfid4'\n",
    "event_time = datetime.now().strftime(\"%d/%m/%Y %H:%M:%S\")\n",
    "weight_finall = 343\n",
    "scales_type = 'model_sql_dyn_var'\n",
    "spray_status = 'DONE'\n",
    "data_status = 'YES'"
   ]
  },
  {
   "cell_type": "code",
   "execution_count": 18,
   "metadata": {},
   "outputs": [
    {
     "name": "stdout",
     "output_type": "stream",
     "text": [
      "Opened database successfully\n"
     ]
    },
    {
     "ename": "IntegrityError",
     "evalue": "UNIQUE constraint failed: COWS.CASE_ID",
     "output_type": "error",
     "traceback": [
      "\u001b[0;31m---------------------------------------------------------------------------\u001b[0m",
      "\u001b[0;31mIntegrityError\u001b[0m                            Traceback (most recent call last)",
      "\u001b[0;32m/tmp/ipykernel_4986/1339003648.py\u001b[0m in \u001b[0;36m<module>\u001b[0;34m\u001b[0m\n\u001b[1;32m      2\u001b[0m \u001b[0mprint\u001b[0m\u001b[0;34m(\u001b[0m\u001b[0;34m\"Opened database successfully\"\u001b[0m\u001b[0;34m)\u001b[0m\u001b[0;34m\u001b[0m\u001b[0;34m\u001b[0m\u001b[0m\n\u001b[1;32m      3\u001b[0m \u001b[0;34m\u001b[0m\u001b[0m\n\u001b[0;32m----> 4\u001b[0;31m conn.execute(\"INSERT INTO COWS (CASE_ID, ANIMAL_ID, EVENT_TIME, WEIGHT, SCALES_TYPE, SPRAY_STATUS, DATA_STATUS) VALUES(?, ?, ?, ?, ?, ?, ?)\",\n\u001b[0m\u001b[1;32m      5\u001b[0m                                 (case_id, animal_id, event_time, weight_finall, scales_type, spray_status, data_status))\n\u001b[1;32m      6\u001b[0m \u001b[0mconn\u001b[0m\u001b[0;34m.\u001b[0m\u001b[0mcommit\u001b[0m\u001b[0;34m(\u001b[0m\u001b[0;34m)\u001b[0m\u001b[0;34m\u001b[0m\u001b[0;34m\u001b[0m\u001b[0m\n",
      "\u001b[0;31mIntegrityError\u001b[0m: UNIQUE constraint failed: COWS.CASE_ID"
     ]
    }
   ],
   "source": [
    "conn = sq3.connect('main_database.db')\n",
    "print(\"Opened database successfully\")\n",
    "\n",
    "conn.execute(\"INSERT INTO COWS (CASE_ID, ANIMAL_ID, EVENT_TIME, WEIGHT, SCALES_TYPE, SPRAY_STATUS, DATA_STATUS) VALUES(?, ?, ?, ?, ?, ?, ?)\",\n",
    "                                (case_id, animal_id, event_time, weight_finall, scales_type, spray_status, data_status))\n",
    "conn.commit()\n",
    "conn.close()\n",
    "\n",
    "print(\"Operation done succesfully\")\n",
    "conn.close()\n"
   ]
  }
 ],
 "metadata": {
  "interpreter": {
   "hash": "4c0c35152dc4f8061f3457db5eeb1998f752c7745dc9b5bb43e59c30541f9aa3"
  },
  "kernelspec": {
   "display_name": "Python 3.10.4 64-bit",
   "language": "python",
   "name": "python3"
  },
  "language_info": {
   "codemirror_mode": {
    "name": "ipython",
    "version": 3
   },
   "file_extension": ".py",
   "mimetype": "text/x-python",
   "name": "python",
   "nbconvert_exporter": "python",
   "pygments_lexer": "ipython3",
   "version": "3.10.4"
  },
  "orig_nbformat": 4
 },
 "nbformat": 4,
 "nbformat_minor": 2
}
