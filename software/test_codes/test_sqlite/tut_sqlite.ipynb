{
 "cells": [
  {
   "cell_type": "markdown",
   "metadata": {},
   "source": [
    "# Import libraries"
   ]
  },
  {
   "cell_type": "code",
   "execution_count": 67,
   "metadata": {},
   "outputs": [],
   "source": [
    "#!/usr/bin/python\n",
    "import sqlite3 as sq3\n",
    "from datetime import datetime\n",
    "import requests\n",
    "import json\n",
    "import socket\n",
    "from datetime import time\n"
   ]
  },
  {
   "cell_type": "markdown",
   "metadata": {},
   "source": [
    "# Create databases and tables"
   ]
  },
  {
   "cell_type": "code",
   "execution_count": 50,
   "metadata": {},
   "outputs": [
    {
     "name": "stdout",
     "output_type": "stream",
     "text": [
      "Opened database successfully\n",
      "zero table created successfully\n",
      "Opened database successfully\n",
      "main table created successfully\n",
      "Opened database successfully\n",
      "Raw data table Created successfully\n",
      "Opened database successfully\n",
      "Spray table created successfully\n"
     ]
    }
   ],
   "source": [
    "# First table draft\n",
    "cur = sq3.connect(\"main_database.db\")\n",
    "print(\"Opened database successfully\")\n",
    "\n",
    "# Here maybe required a zero table \n",
    "\n",
    "cur.execute('''CREATE TABLE ZERO\n",
    "            (ID              INTEGER PRIMARY KEY    NOT NULL,\n",
    "            ANIMAL_ID        TEXT                   NOT NULL);''')\n",
    "\n",
    "print(\"zero table created successfully\")\n",
    "cur.close()\n",
    "\n",
    "cur = sq3.connect(\"main_database.db\")\n",
    "print(\"Opened database successfully\")\n",
    "\n",
    "cur.execute('''CREATE TABLE FIRST\n",
    "            (CASE_ID                    INTEGER PRIMARY KEY  AUTOINCREMENT,\n",
    "            ANIMAL_ID                   TEXT                NOT NULL,\n",
    "            EVENT                       DATETIME            NOT NULL,\n",
    "            WEIGHT                      DOUBLE              NOT NULL,\n",
    "            EQUIPMENT_ID                          TEXT                NOT NULL,\n",
    "            DRINK_DURATION              TIME,               \n",
    "            DATA_STATUS                 TEXT CHECK( DATA_STATUS IN ('YES','NO') )   NOT NULL DEFAULT 'NO',\n",
    "            TRANSFER_TIME               DATETIME\n",
    "            FOREIGN KEY(ANIMAL_ID) REFERENCES ZERO(ANIMAL_ID),\n",
    "            FOREIGN KEY(EQUIPMENT_ID) REFERENCES EQUIPMENT(EQUIPMENT_ID));''')\n",
    "\n",
    "\n",
    "print(\"main table created successfully\")\n",
    "cur.close()\n",
    "\n",
    "\n",
    "cur = sq3.connect(\"main_database.db\")\n",
    "print(\"Opened database successfully\")\n",
    "\n",
    "cur.execute('''CREATE TABLE RAW_DATA\n",
    "            (RAW_CASE_ID                INTEGER PRIMARY KEY      AUTOINCREMENT,  \n",
    "            ANIMAL_ID                   TEXT                 NOT NULL,\n",
    "            EVENT                       DATETIME             NOT NULL,\n",
    "            WEIGHT                      DOUBLE               NOT NULL,\n",
    "            EQUIPMENT_ID                TEXT                 NOT NULL,\n",
    "            DATA_STATUS                 TEXT CHECK( RAW_DATA_STATUS IN ('YES','NO') )   NOT NULL DEFAULT 'NO', \n",
    "            TRANSFER_TIME               DATETIME\n",
    "            FOREIGN KEY(ANIMAL_ID) REFERENCES ZERO(ANIMAL_ID),\n",
    "            FOREIGN KEY(EQUIPMENT_ID) REFERENCES EQUIPMENT(EQUIPMENT_ID));''')\n",
    "\n",
    "print(\"Raw data table Created successfully\")\n",
    "cur.close()\n",
    "\n",
    "\n",
    "cur = sq3.connect(\"main_database.db\")\n",
    "print(\"Opened database successfully\")\n",
    "\n",
    "cur.execute('''CREATE TABLE SPRAY\n",
    "            (CASE_ID                        INTEGER PRIMARY KEY  AUTOINCREMENT,\n",
    "            ANIMAL_ID                       TEXT                    NOT NULL,\n",
    "            EQUIPMENT_ID                    TEXT                    NOT NULL,\n",
    "            TYPE                            TEXT CHECK( TYPE IN ('PAINT','DRUG') )   NOT NULL DEFAULT 'DRUG'                   \n",
    "            STATUS                          TEXT CHECK( SPRAY_STATUS IN ('NONE','DONE', 'WAIT') )   NOT NULL DEFAULT 'NONE',\n",
    "            COMMAND_TIME                    DATETIME,\n",
    "            DONE_TIME                       DATETIME,\n",
    "            DATA_STATUS                     TEXT CHECK( DATA_STATUS IN ('YES','NO') )   NOT NULL DEFAULT 'NO',\n",
    "            TRANSFER_TIME                   DATETIME,\n",
    "            FOREIGN KEY(ANIMAL_ID) REFERENCES ZERO(ANIMAL_ID),\n",
    "            FOREIGN KEY(EQUIPMENT_ID) REFERENCES EQUIPMENT(EQUIPMENT_ID));''')\n",
    "\n",
    "print(\"Spray table created successfully\")\n",
    "\n",
    "cur = sq3.connect(\"main_database.db\")\n",
    "print(\"Opened database successfully\")\n",
    "\n",
    "cur.execute('''CREATE TABLE METRICS\n",
    "            (CASE_ID                        INTEGER PRIMARY KEY  AUTOINCREMENT,\n",
    "            ANIMAL_ID                       TEXT                    NOT NULL,\n",
    "            EQUIPMENT_ID                    TEXT                    NOT NULL,\n",
    "            TYPE                            TEXT CHECK( TYPE IN ('PAINT','DRUG') )   NOT NULL DEFAULT 'DRUG'                   \n",
    "            STATUS                          TEXT CHECK( SPRAY_STATUS IN ('NONE','DONE', 'WAIT') )   NOT NULL DEFAULT 'NONE',\n",
    "            COMMAND_TIME                    DATETIME,\n",
    "            DONE_TIME                       DATETIME,\n",
    "            DATA_STATUS                     TEXT CHECK( DATA_STATUS IN ('YES','NO') )   NOT NULL DEFAULT 'NO',\n",
    "            TRANSFER_TIME                   DATETIME,\n",
    "            FOREIGN KEY(ANIMAL_ID) REFERENCES ZERO(ANIMAL_ID),\n",
    "            FOREIGN KEY(EQUIPMENT_ID) REFERENCES EQUIPMENT(EQUIPMENT_ID));''')\n",
    "\n",
    "print(\"Spray table created successfully\")\n",
    "\n",
    "\n",
    "\n",
    "cur.close()"
   ]
  },
  {
   "cell_type": "code",
   "execution_count": 2,
   "metadata": {},
   "outputs": [
    {
     "name": "stdout",
     "output_type": "stream",
     "text": [
      "Opened database successfully\n",
      "main table created successfully\n",
      "Data table created successfully\n",
      "Spray table created successfully\n",
      "Raw table Created successfully\n"
     ]
    }
   ],
   "source": [
    "# # First table draft\n",
    "# cur = sq3.connect(\"main_database.db\")\n",
    "# print(\"Opened database successfully\")\n",
    "\n",
    "# # Here maybe required a zero table \n",
    "\n",
    "# cur.execute('''CREATE TABLE ZERO_TABLE\n",
    "#             (ANIMAL_ID              TEXT PRIMARY KEY    NOT NULL);''')\n",
    "\n",
    "\n",
    "# cur.execute('''CREATE TABLE FIRST_TABLE\n",
    "#             (CASE_ID            INTEGER PRIMARY KEY  AUTOINCREMENT,\n",
    "#             ANIMAL_ID               TEXT                NOT NULL,\n",
    "#             EVENT_TIME              DATETIME            NOT NULL,\n",
    "#             WEIGHT                  DOUBLE              NOT NULL,\n",
    "#             SCALES_TYPE             TEXT                NOT NULL,\n",
    "#             LASTDRINK_DURATION      TIME                );''')\n",
    "\n",
    "\n",
    "# print(\"main table created successfully\")\n",
    "\n",
    "# cur.execute('''CREATE TABLE RAW_DATA_TABLE\n",
    "#             (RAW_CASE_ID           INTEGER PRIMARY KEY      AUTOINCREMENT,  \n",
    "#             ANIMAL_ID              TEXT                 NOT NULL,\n",
    "#             EVENT_TIME             DATETIME             NOT NULL,\n",
    "#             WEIGHT                 DOUBLE               NOT NULL,\n",
    "#             SCALES_TYPE            TEXT                 NOT NULL);''')\n",
    "\n",
    "# print(\"Raw table Created successfully\")\n",
    "\n",
    "# cur.execute('''CREATE TABLE DATA_TABLE \n",
    "#             (DATA_ID                 INTEGER PRIMARY KEY AUTOINCREMENT,\n",
    "#             ANIMAL_ID               TEXT                NOT NULL,\n",
    "#             DATA_STATUS             TEXT CHECK( DATA_STATUS IN ('YES','NO') )   NOT NULL DEFAULT 'NO',\n",
    "#             DATA_COLLECTED_TIME     DATETIME            NOT NULL, \n",
    "#             DATA_TRANSFER_TIME      DATETIME);''')\n",
    "\n",
    "# print(\"Data table created successfully\")\n",
    "\n",
    "# cur.execute('''CREATE TABLE SPRAY_TABLE \n",
    "#             (SPRAY_ID                INTEGER PRIMARY KEY  AUTOINCREMENT,\n",
    "#             SPRAY_STATUS            TEXT CHECK( SPRAY_STATUS IN ('NONE','DONE', 'WAIT') )   NOT NULL DEFAULT 'NONE',\n",
    "#             SPRAY_WAIT_TIME         DATETIME,\n",
    "#             SPRAY_DONE_TIME         DATETIME);''')\n",
    "\n",
    "\n",
    "# print(\"Spray table created successfully\")\n",
    "\n",
    "\n",
    "# cur.close()"
   ]
  },
  {
   "cell_type": "markdown",
   "metadata": {},
   "source": [
    "# Insert test data"
   ]
  },
  {
   "cell_type": "code",
   "execution_count": 3,
   "metadata": {},
   "outputs": [
    {
     "name": "stdout",
     "output_type": "stream",
     "text": [
      "Opened database successfully\n",
      "Recodrs created succesfully\n"
     ]
    }
   ],
   "source": [
    "cur = sq3.connect('main_database.db')\n",
    "print(\"Opened database successfully\")\n",
    "\n",
    "cur.execute(\"INSERT INTO COWS (ANIMAL_ID, EVENT_TIME, WEIGHT, SCALES_TYPE, SPRAY_STATUS, SPRAY_TIME,  DATA_STATUS) \\\n",
    "    VALUES ('rfid_sql_test', datetime(strftime('%s','now'), 'unixepoch', 'localtime'), 300, 'model_sql_test', 'DONE', NULL, 'NO')\");\n",
    "\n",
    "cur.execute(\"INSERT INTO COWS (ANIMAL_ID, EVENT_TIME, WEIGHT, SCALES_TYPE, SPRAY_STATUS, SPRAY_TIME,  DATA_STATUS) \\\n",
    "    VALUES ('rfid_sql_test', datetime(strftime('%s','now'), 'unixepoch', 'localtime'), 340, 'model_sql_test', 'WAIT', NULL, 'NO')\");\n",
    "\n",
    "cur.execute(\"INSERT INTO COWS (ANIMAL_ID, EVENT_TIME, WEIGHT, SCALES_TYPE, SPRAY_STATUS, SPRAY_TIME,  DATA_STATUS) \\\n",
    "    VALUES ('rfid_sql_test', datetime(strftime('%s','now'), 'unixepoch', 'localtime') , 349, 'model_sql_test', 'NONE', NULL, 'NO')\");\n",
    "\n",
    "cur.execute(\"INSERT INTO RAW_DATA(ANIMAL_ID, EVENT_TIME, WEIGHT, SCALES_TYPE) \\\n",
    "    VALUES ('rfid_sql_test', datetime(strftime('%s','now'), 'unixepoch', 'localtime'), 290, 'model_sql_test')\");\n",
    "\n",
    "cur.execute(\"INSERT INTO RAW_DATA(ANIMAL_ID, EVENT_TIME, WEIGHT, SCALES_TYPE) \\\n",
    "    VALUES ('rfid_sql_test', datetime(strftime('%s','now'), 'unixepoch', 'localtime'), 300, 'model_sql_test')\");\n",
    "\n",
    "cur.execute(\"INSERT INTO RAW_DATA(ANIMAL_ID, EVENT_TIME, WEIGHT, SCALES_TYPE) \\\n",
    "    VALUES ('rfid_sql_test', datetime(strftime('%s','now'), 'unixepoch', 'localtime'), 300, 'model_sql_test')\");\n",
    "\n",
    "cur.execute(\"INSERT INTO RAW_DATA(ANIMAL_ID, EVENT_TIME, WEIGHT, SCALES_TYPE) \\\n",
    "    VALUES ('rfid_sql_test', datetime(strftime('%s','now'), 'unixepoch', 'localtime'), 300, 'model_sql_test')\");\n",
    "\n",
    "cur.execute(\"INSERT INTO RAW_DATA(ANIMAL_ID, EVENT_TIME, WEIGHT, SCALES_TYPE) \\\n",
    "    VALUES ('rfid_sql_test', datetime(strftime('%s','now'), 'unixepoch', 'localtime'), 300, 'model_sql_test')\");\n",
    "\n",
    "\n",
    "cur.commit()\n",
    "print(\"Recodrs created succesfully\")\n",
    "cur.close()"
   ]
  },
  {
   "cell_type": "code",
   "execution_count": null,
   "metadata": {},
   "outputs": [],
   "source": [
    "# print MAIN_DATA_TABLE cells\n",
    "conn = sq3.connect('main_database.db')\n",
    "print(\"Opened database successfully\")\n",
    "\n",
    "cursor = conn.execute(\"SELECT CASE_ID, ANIMAL_ID, EVENT_TIME, WEIGHT, SCALES_TYPE, LAST_DRINK_DURATION, MAIN_DATA_STATUS, DATA_TRANSFER_TIME from MAIN_DATA_TABLE\")\n",
    "\n",
    "for row in cursor:\n",
    "    print(\"ID = \", row[0])\n",
    "    print(\"ANIMAL_ID = \", row[1])\n",
    "    print(\"EVENT_TIME = \", row[2])\n",
    "    print(\"WEIGHT = \", row[3])\n",
    "    print(\"SCALES_TYPE = \", row[4])\n",
    "    print(\"LAST_DRINK_DURATION = \", row[5])\n",
    "    print(\"DATA_STATUS = \", row[6])\n",
    "    print(\"DATA_TRANSFER_TIME = \", row[7], \"\\n\")\n",
    "\n",
    "print(\"Operation done succesfully\")\n",
    "conn.close()\n"
   ]
  },
  {
   "cell_type": "markdown",
   "metadata": {},
   "source": [
    "# Insert into MAIN_DATA_TABLE"
   ]
  },
  {
   "cell_type": "code",
   "execution_count": 39,
   "metadata": {},
   "outputs": [],
   "source": [
    "# Collect to database function \n",
    "\n",
    "\n",
    "def collect_to_main_data_table(animal_id, weight, scales_type):\n",
    "    try:\n",
    "        main_data_status = 'NO'\n",
    "        last_drink_duration= 'NULL'\n",
    "        event_time = datetime.now()\n",
    "        data_transfer_time = 'NULL'\n",
    "\n",
    "        conn = sq3.connect('main_database.db')\n",
    "        print(\"Opened database successfully\")\n",
    "        conn.execute(\"INSERT INTO MAIN_DATA_TABLE (ANIMAL_ID, EVENT_TIME, WEIGHT, SCALES_TYPE, LAST_DRINK_DURATION, MAIN_DATA_STATUS, DATA_TRANSFER_TIME ) VALUES(?, ?, ?, ?, ?, ?, ?)\",\n",
    "                                            (animal_id, event_time, weight, scales_type, last_drink_duration, main_data_status, data_transfer_time))\n",
    "        conn.commit()\n",
    "        conn.close()\n",
    "\n",
    "    except Exception as e:\n",
    "        print(\"Error to save data in \", e)\n",
    "    else:\n",
    "        return 0"
   ]
  },
  {
   "cell_type": "code",
   "execution_count": 83,
   "metadata": {},
   "outputs": [
    {
     "name": "stdout",
     "output_type": "stream",
     "text": [
      "Opened database successfully\n"
     ]
    },
    {
     "data": {
      "text/plain": [
       "0"
      ]
     },
     "execution_count": 83,
     "metadata": {},
     "output_type": "execute_result"
    }
   ],
   "source": [
    "# main table collect check\n",
    "animal_id = 'test_main_data_table_function'\n",
    "weight = 1231\n",
    "scales_type = 'sqlite_test'\n",
    "\n",
    "collect_to_main_data_table(animal_id, weight, scales_type)\n"
   ]
  },
  {
   "cell_type": "markdown",
   "metadata": {},
   "source": [
    "# Insert into RAW DATA TABLE"
   ]
  },
  {
   "cell_type": "code",
   "execution_count": 51,
   "metadata": {},
   "outputs": [],
   "source": [
    "def collect_to_raw_data_table(animal_id, weight, scales_type):\n",
    "    try:\n",
    "        raw_data_status = 'NO'\n",
    "        event_time = datetime.now()\n",
    "        data_transfer_time = 'NULL'\n",
    "\n",
    "        conn = sq3.connect('main_database.db')\n",
    "        print(\"Opened database successfully\")\n",
    "        conn.execute(\"INSERT INTO RAW_DATA_TABLE (ANIMAL_ID, EVENT_TIME, WEIGHT, SCALES_TYPE, RAW_DATA_STATUS, DATA_TRANSFER_TIME ) VALUES(?, ?, ?, ?, ?, ?)\",\n",
    "                                            (animal_id, event_time, weight, scales_type, raw_data_status, data_transfer_time))\n",
    "        conn.commit()\n",
    "        conn.close()\n",
    "\n",
    "    except Exception as e:\n",
    "        print(\"Error to save data in \", e)\n",
    "    else:\n",
    "        return 0"
   ]
  },
  {
   "cell_type": "code",
   "execution_count": 55,
   "metadata": {},
   "outputs": [
    {
     "name": "stdout",
     "output_type": "stream",
     "text": [
      "Opened database successfully\n"
     ]
    },
    {
     "data": {
      "text/plain": [
       "0"
      ]
     },
     "execution_count": 55,
     "metadata": {},
     "output_type": "execute_result"
    }
   ],
   "source": [
    "# raw table collect check\n",
    "animal_id = 'raw_test_data_table_function'\n",
    "weight = 500\n",
    "scales_type = 'sqlite_test'\n",
    "\n",
    "collect_to_raw_data_table(animal_id, weight, scales_type)"
   ]
  },
  {
   "cell_type": "markdown",
   "metadata": {},
   "source": [
    "# Insert into spray table"
   ]
  },
  {
   "cell_type": "code",
   "execution_count": null,
   "metadata": {},
   "outputs": [],
   "source": []
  },
  {
   "cell_type": "markdown",
   "metadata": {},
   "source": [
    "# Send to server draft function"
   ]
  },
  {
   "cell_type": "code",
   "execution_count": 84,
   "metadata": {},
   "outputs": [
    {
     "name": "stdout",
     "output_type": "stream",
     "text": [
      "Extract data from database\n",
      "Opened database successfully\n",
      "Answer from server:  <Response [200]>\n",
      "b'101337'\n",
      "6\n",
      "Answer from server:  <Response [200]>\n",
      "b'101338'\n",
      "7\n",
      "Answer from server:  <Response [200]>\n",
      "b'101339'\n",
      "8\n",
      "Operation update database and sending to server done succesfully\n"
     ]
    }
   ],
   "source": [
    "###################################################################################################3\n",
    "def Send_data_to_server(): # Sending data into Igor's server through JSON\n",
    "    try:\n",
    "        print(\"Extract data from database\")\n",
    "\n",
    "        # Extract info from cows table of main_database\n",
    "        #    \n",
    "        conn = sq3.connect('main_database.db')\n",
    "        print(\"Opened database successfully\")\n",
    "\n",
    "        cursor = conn.execute(\"SELECT CASE_ID, ANIMAL_ID, EVENT_TIME, WEIGHT, SCALES_TYPE, LAST_DRINK_DURATION, MAIN_DATA_STATUS, DATA_TRANSFER_TIME from MAIN_DATA_TABLE\")\n",
    "\n",
    "        for row in cursor:\n",
    "            if row[6] == 'NO': # check status in table\n",
    "                #print(\"ANIMAL_ID = \", row[1])\n",
    "                animal_id = row[1]\n",
    "                #print(\"EVENT_TIME = \", row[2])\n",
    "                event_time = row[2]\n",
    "                #print(\"WEIGHT = \", row[3])\n",
    "                weight = row[3]\n",
    "                #print(\"SCALES_TYPE = \", row[4])\n",
    "                scales_type = row[4]\n",
    "                #print(\"DATA_STATUS = \", row[7])\n",
    "                data_status = row[6]\n",
    "                #case_id = \n",
    "\n",
    "                # Function of sending data from database to smart-farm server\n",
    "                # def json_send_packet()\n",
    "                \n",
    "                #print(\"START SEND DATA TO SERVER:\")\n",
    "                url = 'http://194.4.56.86:8501/api/weights'\n",
    "                headers = {'Content-type': 'application/json'}\n",
    "                data = {\"AnimalNumber\" : animal_id,\n",
    "                        \"Date\" : event_time,\n",
    "                        \"Weight\" : weight,\n",
    "                        \"ScalesModel\" : scales_type}\n",
    "                answer = requests.post(url, data=json.dumps(data), headers=headers)\n",
    "                print(\"Answer from server: \", answer) # Is it possible to stop on this line in the debug?\n",
    "                print(answer.content)\n",
    "                print(row[0])\n",
    "\n",
    "                # Change status of DATA_STATUS in cows table from main_database \n",
    "                if 200 == answer.status_code:\n",
    "                    #print(\"This is part of change status in cows table Data status\")\n",
    "                    # change status\n",
    "                    data_for_query = ('YES', datetime.now() , row[0])\n",
    "                    sqlite_querry = \"\"\"UPDATE MAIN_DATA_TABLE SET MAIN_DATA_STATUS = ?, DATA_TRANSFER_TIME = ? WHERE CASE_ID = ?\"\"\"                 \n",
    "                    conn.execute(sqlite_querry, data_for_query)\n",
    "                    conn.commit()\n",
    "          \n",
    "                    \n",
    "    except Exception as e:\n",
    "        print(\"Error send data to server\", e)\n",
    "    else:\n",
    "        print(\"Operation update database and sending to server done succesfully\")\n",
    "        conn.close()\n",
    "        return 0\n",
    "\n",
    "#######################################################################################\n",
    "\n",
    "# internet connection check function\n",
    "def check_internet_connection():\n",
    "    \"\"\" Returns True if there's a connection \"\"\"\n",
    "\n",
    "    IP_ADDRESS_LIST = [\n",
    "        \"1.1.1.1\",  # Cloudflare\n",
    "        \"1.0.0.1\",\n",
    "        \"8.8.8.8\",  # Google DNS\n",
    "        \"8.8.4.4\",\n",
    "        \"208.67.222.222\",  # Open DNS\n",
    "        \"208.67.220.220\"\n",
    "    ]\n",
    "\n",
    "    port = 53\n",
    "    timeout = 3\n",
    "\n",
    "    for host in IP_ADDRESS_LIST:\n",
    "        try:\n",
    "            socket.setdefaulttimeout(timeout)\n",
    "            socket.socket(socket.AF_INET, socket.SOCK_STREAM).connect((host, port))\n",
    "            return True\n",
    "        except socket.error:\n",
    "            pass\n",
    "    else:\n",
    "        print(\"No internet connection\")\n",
    "        return False \n",
    "\n",
    "# Check internet connection \n",
    "if check_internet_connection() == True :\n",
    "    Send_data_to_server()\n",
    "else:\n",
    "    time.sleep(10)"
   ]
  },
  {
   "cell_type": "markdown",
   "metadata": {},
   "source": [
    "# Send to server from MAIN TABLE DATA"
   ]
  },
  {
   "cell_type": "code",
   "execution_count": 80,
   "metadata": {},
   "outputs": [
    {
     "name": "stdout",
     "output_type": "stream",
     "text": [
      "Extract data from database\n",
      "Opened database successfully\n",
      "Answer from server:  <Response [200]>\n",
      "b'101332'\n",
      "1\n",
      "Answer from server:  <Response [200]>\n",
      "b'101333'\n",
      "2\n",
      "Answer from server:  <Response [200]>\n",
      "b'101334'\n",
      "3\n",
      "Answer from server:  <Response [200]>\n",
      "b'101335'\n",
      "4\n",
      "Answer from server:  <Response [200]>\n",
      "b'101336'\n",
      "5\n",
      "Operation update database and sending to server done succesfully\n"
     ]
    },
    {
     "data": {
      "text/plain": [
       "0"
      ]
     },
     "execution_count": 80,
     "metadata": {},
     "output_type": "execute_result"
    }
   ],
   "source": [
    "# This function is select data from cows database then send is to Igos server\n",
    "\n",
    "def Send_data_to_server(): # Sending data into Igor's server through JSON\n",
    "    try:\n",
    "        print(\"Extract data from database\")\n",
    "\n",
    "        # Extract info from cows table of main_database\n",
    "        #    \n",
    "        conn = sq3.connect('main_database.db')\n",
    "        print(\"Opened database successfully\")\n",
    "\n",
    "        cursor = conn.execute(\"SELECT CASE_ID, ANIMAL_ID, EVENT_TIME, WEIGHT, SCALES_TYPE, LAST_DRINK_DURATION, MAIN_DATA_STATUS, DATA_TRANSFER_TIME from MAIN_DATA_TABLE\")\n",
    "\n",
    "        for row in cursor:\n",
    "            if row[6] == 'NO': # check status in table\n",
    "                #print(\"ANIMAL_ID = \", row[1])\n",
    "                animal_id = row[1]\n",
    "                #print(\"EVENT_TIME = \", row[2])\n",
    "                event_time = row[2]\n",
    "                #print(\"WEIGHT = \", row[3])\n",
    "                weight = row[3]\n",
    "                #print(\"SCALES_TYPE = \", row[4])\n",
    "                scales_type = row[4]\n",
    "                #print(\"DATA_STATUS = \", row[7])\n",
    "                data_status = row[6]\n",
    "                #case_id = \n",
    "\n",
    "                # Function of sending data from database to smart-farm server\n",
    "                # def json_send_packet()\n",
    "                \n",
    "                #print(\"START SEND DATA TO SERVER:\")\n",
    "                url = 'http://194.4.56.86:8501/api/weights'\n",
    "                headers = {'Content-type': 'application/json'}\n",
    "                data = {\"AnimalNumber\" : animal_id,\n",
    "                        \"Date\" : event_time,\n",
    "                        \"Weight\" : weight,\n",
    "                        \"ScalesModel\" : scales_type}\n",
    "                answer = requests.post(url, data=json.dumps(data), headers=headers)\n",
    "                print(\"Answer from server: \", answer) # Is it possible to stop on this line in the debug?\n",
    "                print(answer.content)\n",
    "                print(row[0])\n",
    "\n",
    "                # Change status of DATA_STATUS in cows table from main_database \n",
    "                if 200 == answer.status_code:\n",
    "                    #print(\"This is part of change status in cows table Data status\")\n",
    "                    # change status\n",
    "                    data_for_query = ('YES', datetime.now() , row[0])\n",
    "                    sqlite_querry = \"\"\"UPDATE MAIN_DATA_TABLE SET MAIN_DATA_STATUS = ?, DATA_TRANSFER_TIME = ? WHERE CASE_ID = ?\"\"\"                 \n",
    "                    conn.execute(sqlite_querry, data_for_query)\n",
    "                    conn.commit()\n",
    "          \n",
    "                    \n",
    "    except Exception as e:\n",
    "        print(\"Error send data to server\", e)\n",
    "    else:\n",
    "        print(\"Operation update database and sending to server done succesfully\")\n",
    "        conn.close()\n",
    "        return 0\n",
    "\n",
    "\n",
    "\n",
    "Send_data_to_server()\n"
   ]
  },
  {
   "cell_type": "markdown",
   "metadata": {},
   "source": [
    "# Send to server from RAW TABLE DATA"
   ]
  },
  {
   "cell_type": "code",
   "execution_count": null,
   "metadata": {},
   "outputs": [],
   "source": []
  },
  {
   "cell_type": "markdown",
   "metadata": {},
   "source": [
    "# Internet connection test"
   ]
  },
  {
   "cell_type": "code",
   "execution_count": 66,
   "metadata": {},
   "outputs": [
    {
     "name": "stdout",
     "output_type": "stream",
     "text": [
      "True\n"
     ]
    }
   ],
   "source": [
    "# Exmple from internet\n",
    "def check_internet_connection():\n",
    "    \"\"\" Returns True if there's a connection \"\"\"\n",
    "\n",
    "    IP_ADDRESS_LIST = [\n",
    "        \"1.1.1.1\",  # Cloudflare\n",
    "        \"1.0.0.1\",\n",
    "        \"8.8.8.8\",  # Google DNS\n",
    "        \"8.8.4.4\",\n",
    "        \"208.67.222.222\",  # Open DNS\n",
    "        \"208.67.220.220\"\n",
    "    ]\n",
    "\n",
    "    port = 53\n",
    "    timeout = 3\n",
    "\n",
    "    for host in IP_ADDRESS_LIST:\n",
    "        try:\n",
    "            socket.setdefaulttimeout(timeout)\n",
    "            socket.socket(socket.AF_INET, socket.SOCK_STREAM).connect((host, port))\n",
    "            return True\n",
    "        except socket.error:\n",
    "            pass\n",
    "    else:\n",
    "        print(\"No internet connection\")\n",
    "        return False \n",
    "\n",
    "print(check_internet_connection())\n"
   ]
  },
  {
   "cell_type": "code",
   "execution_count": 5,
   "metadata": {},
   "outputs": [
    {
     "data": {
      "text/plain": [
       "0"
      ]
     },
     "execution_count": 5,
     "metadata": {},
     "output_type": "execute_result"
    }
   ],
   "source": [
    "def print_log(message = None, value = None): # Function to logging and printing messages into terminal for debug\n",
    "    #logging.info(message)\n",
    "    #if value != None:\n",
    "        #logging.info(value)\n",
    "    #print(message)\n",
    "    #if value != None:\n",
    "        #print(value)\n",
    "    return 0\n",
    "\n",
    "print_log()"
   ]
  },
  {
   "cell_type": "code",
   "execution_count": 1,
   "metadata": {},
   "outputs": [],
   "source": [
    "import logging\n",
    "from datetime import datetime, date, time"
   ]
  },
  {
   "cell_type": "code",
   "execution_count": 2,
   "metadata": {},
   "outputs": [
    {
     "name": "stdout",
     "output_type": "stream",
     "text": [
      "start\n",
      "run\n"
     ]
    },
    {
     "data": {
      "text/plain": [
       "0"
      ]
     },
     "execution_count": 2,
     "metadata": {},
     "output_type": "execute_result"
    }
   ],
   "source": [
    "# Test of new log file name\n",
    "logging.basicConfig(filename = '%s.log'%str(datetime.now().strftime(\"%Y-%m-%d_%H_%M_%S\")), level = logging.DEBUG, format='[%(filename)s_%(lineno)s - %(funcName)20s() ] %(asctime)s %(message)s')\n",
    "\n",
    "\n",
    "\n",
    "def print_log(message = None, value = None): # Function to logging and printing messages into terminal for debug\n",
    "    logging.info(message)\n",
    "    if value != None:\n",
    "        logging.info(value)\n",
    "    print(message)\n",
    "    if value != None:\n",
    "        print(value)\n",
    "    return 0\n",
    "\n",
    "\n",
    "print_log('start', 'run')"
   ]
  }
 ],
 "metadata": {
  "interpreter": {
   "hash": "afb734500600fd355917ca529030176ea0ca205570884b88f2f6f7d791fd3fbe"
  },
  "kernelspec": {
   "display_name": "Python 3.10.0 64-bit",
   "language": "python",
   "name": "python3"
  },
  "language_info": {
   "codemirror_mode": {
    "name": "ipython",
    "version": 3
   },
   "file_extension": ".py",
   "mimetype": "text/x-python",
   "name": "python",
   "nbconvert_exporter": "python",
   "pygments_lexer": "ipython3",
   "version": "3.10.0"
  },
  "orig_nbformat": 4
 },
 "nbformat": 4,
 "nbformat_minor": 2
}
