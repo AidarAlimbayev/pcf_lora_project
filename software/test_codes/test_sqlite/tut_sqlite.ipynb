{
 "cells": [
  {
   "cell_type": "markdown",
   "metadata": {},
   "source": [
    "# intro"
   ]
  },
  {
   "cell_type": "code",
   "execution_count": 13,
   "metadata": {},
   "outputs": [],
   "source": [
    "#!/usr/bin/python\n",
    "import sqlite3"
   ]
  },
  {
   "cell_type": "code",
   "execution_count": 14,
   "metadata": {},
   "outputs": [
    {
     "name": "stdout",
     "output_type": "stream",
     "text": [
      "Opened database successfully\n"
     ]
    }
   ],
   "source": [
    "conn = sqlite3.connect(\"test_cow.db\")\n",
    "print(\"Opened database successfully\")"
   ]
  },
  {
   "cell_type": "markdown",
   "metadata": {},
   "source": [
    "# Create Tables"
   ]
  },
  {
   "cell_type": "code",
   "execution_count": 15,
   "metadata": {},
   "outputs": [
    {
     "name": "stdout",
     "output_type": "stream",
     "text": [
      "Table Created successfully\n"
     ]
    },
    {
     "data": {
      "text/plain": [
       "<function Connection.close>"
      ]
     },
     "execution_count": 15,
     "metadata": {},
     "output_type": "execute_result"
    }
   ],
   "source": [
    "conn.execute('''CREATE TABLE COWS\n",
    "            (ID INT PRIMARY KEY     NOT NULL,\n",
    "            RFID            TEXT    NOT NULL,\n",
    "            WEIGHT          INT     NOT NULL,\n",
    "            DATE            TEXT    NOT NULL,\n",
    "            SPRAY_STATUS    INT     NOT NULL);''')\n",
    "\n",
    "print(\"Table Created successfully\")\n",
    "\n",
    "conn.close"
   ]
  },
  {
   "cell_type": "markdown",
   "metadata": {},
   "source": [
    "# Insert Operations"
   ]
  },
  {
   "cell_type": "code",
   "execution_count": 5,
   "metadata": {},
   "outputs": [],
   "source": [
    "import sqlite3 as sq3\n",
    "from datetime import datetime"
   ]
  },
  {
   "cell_type": "code",
   "execution_count": 6,
   "metadata": {},
   "outputs": [
    {
     "data": {
      "text/plain": [
       "'24/05/2022 01:39:41'"
      ]
     },
     "execution_count": 6,
     "metadata": {},
     "output_type": "execute_result"
    }
   ],
   "source": [
    "datetime_now = datetime.now()\n",
    "dt_string = datetime_now.strftime(\"%d/%m/%Y %H:%M:%S\")\n",
    "dt_string"
   ]
  },
  {
   "cell_type": "code",
   "execution_count": 19,
   "metadata": {},
   "outputs": [
    {
     "name": "stdout",
     "output_type": "stream",
     "text": [
      "Opened database successfully\n",
      "Recodrs created succesfully\n"
     ]
    }
   ],
   "source": [
    "conn = sq3.connect('test_cow.db')\n",
    "print(\"Opened database successfully\")\n",
    "\n",
    "#conn.execute(\"INSERT INTO COWS (ID,RFID,WEIGHT,DATE,SPRAY_STATUS) \\\n",
    "#     VALUES (1, 'rfid', 300, 22.1, 1)\");\n",
    "\n",
    "conn.execute(\"INSERT INTO COWS (ID,RFID,WEIGHT,DATE,SPRAY_STATUS) \\\n",
    "      VALUES (3, '16rfid32name', 350, 22.1, 0)\");\n",
    "\n",
    "conn.execute(\"INSERT INTO COWS (ID,RFID,WEIGHT,DATE,SPRAY_STATUS) \\\n",
    "      VALUES (4, '16rfid333', 400, 23052022, 2)\");\n",
    "\n",
    "\n",
    "conn.commit()\n",
    "print(\"Recodrs created succesfully\")\n",
    "conn.close()"
   ]
  },
  {
   "cell_type": "code",
   "execution_count": 25,
   "metadata": {},
   "outputs": [
    {
     "name": "stdout",
     "output_type": "stream",
     "text": [
      "Opened database successfully\n",
      "ID =  1\n",
      "RFID =  rfid\n",
      "WEIGHT =  300\n",
      "DATE =  22.1 \n",
      "\n",
      "ID =  2\n",
      "RFID =  16rfid32name\n",
      "WEIGHT =  350\n",
      "DATE =  22.1 \n",
      "\n",
      "ID =  3\n",
      "RFID =  16rfid32name\n",
      "WEIGHT =  350\n",
      "DATE =  22.1 \n",
      "\n",
      "ID =  4\n",
      "RFID =  16rfid333\n",
      "WEIGHT =  400\n",
      "DATE =  23052022 \n",
      "\n",
      "Operation done succesfully\n"
     ]
    }
   ],
   "source": [
    "conn = sq3.connect('test_cow.db')\n",
    "print(\"Opened database successfully\")\n",
    "\n",
    "cursor = conn.execute(\"SELECT ID, rfid,  weIGHT, DATE, SPRAY_STATUS from COWS\")\n",
    "\n",
    "for row in cursor:\n",
    "    print(\"ID = \", row[0])\n",
    "    print(\"RFID = \", row[1])\n",
    "    print(\"WEIGHT = \", row[2])\n",
    "    print(\"DATE = \", row[3], \"\\n\")\n",
    "\n",
    "print(\"Operation done succesfully\")\n",
    "conn.close()\n"
   ]
  }
 ],
 "metadata": {
  "interpreter": {
   "hash": "31f2aee4e71d21fbe5cf8b01ff0e069b9275f58929596ceb00d14d90e3e16cd6"
  },
  "kernelspec": {
   "display_name": "Python 3.8.10 64-bit",
   "name": "python3"
  },
  "language_info": {
   "codemirror_mode": {
    "name": "ipython",
    "version": 3
   },
   "file_extension": ".py",
   "mimetype": "text/x-python",
   "name": "python",
   "nbconvert_exporter": "python",
   "pygments_lexer": "ipython3",
   "version": "3.8.10"
  },
  "orig_nbformat": 4
 },
 "nbformat": 4,
 "nbformat_minor": 2
}
