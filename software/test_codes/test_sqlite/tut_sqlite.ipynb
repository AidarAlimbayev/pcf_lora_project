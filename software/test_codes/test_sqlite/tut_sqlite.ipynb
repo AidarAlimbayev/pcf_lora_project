{
 "cells": [
  {
   "cell_type": "markdown",
   "metadata": {},
   "source": [
    "# intro"
   ]
  },
  {
   "cell_type": "code",
   "execution_count": 32,
   "metadata": {},
   "outputs": [],
   "source": [
    "#!/usr/bin/python\n",
    "import sqlite3 as sq3\n",
    "from datetime import datetime"
   ]
  },
  {
   "cell_type": "code",
   "execution_count": 33,
   "metadata": {},
   "outputs": [
    {
     "name": "stdout",
     "output_type": "stream",
     "text": [
      "Opened database successfully\n"
     ]
    }
   ],
   "source": [
    "cur = sq3.connect(\"test_cow.db\")\n",
    "print(\"Opened database successfully\")"
   ]
  },
  {
   "cell_type": "markdown",
   "metadata": {},
   "source": [
    "# Create Tables"
   ]
  },
  {
   "cell_type": "code",
   "execution_count": 34,
   "metadata": {},
   "outputs": [
    {
     "name": "stdout",
     "output_type": "stream",
     "text": [
      "Table Created successfully\n"
     ]
    }
   ],
   "source": [
    "cur.execute('''CREATE TABLE COWS\n",
    "            (CASE_ID INT PRIMARY KEY        NOT NULL,\n",
    "            ANIMAL_ID               TEXT    NOT NULL,\n",
    "            EVENT_TIME              TEXT    NOT NULL,\n",
    "            WEIGHT                  INT     NOT NULL,\n",
    "            SCALES_TYPE             TEXT    NOT NULL,\n",
    "            SPRAY_STATUS            TEXT    NOT NULL,\n",
    "            DATA_STATUS             TEXT    NOT NULL);''')\n",
    "\n",
    "print(\"Table Created successfully\")\n",
    "cur.close()"
   ]
  },
  {
   "cell_type": "markdown",
   "metadata": {},
   "source": [
    "# Insert Operations"
   ]
  },
  {
   "cell_type": "code",
   "execution_count": 35,
   "metadata": {},
   "outputs": [
    {
     "name": "stdout",
     "output_type": "stream",
     "text": [
      "Opened database successfully\n",
      "Recodrs created succesfully\n"
     ]
    }
   ],
   "source": [
    "cur = sq3.connect('test_cow.db')\n",
    "print(\"Opened database successfully\")\n",
    "\n",
    "cur.execute(\"INSERT INTO COWS (CASE_ID, ANIMAL_ID, EVENT_TIME, WEIGHT, SCALES_TYPE, SPRAY_STATUS, DATA_STATUS) \\\n",
    "    VALUES (1, 'rfid01', '25052022', 300, 'model_sql_test', 'DONE', 'NO')\");\n",
    "\n",
    "cur.execute(\"INSERT INTO COWS (CASE_ID, ANIMAL_ID, EVENT_TIME, WEIGHT, SCALES_TYPE, SPRAY_STATUS, DATA_STATUS) \\\n",
    "    VALUES (2, 'rfid02', '25052022', 340, 'model_sql_test', 'WAIT', 'YES')\");\n",
    "\n",
    "cur.execute(\"INSERT INTO COWS (CASE_ID, ANIMAL_ID, EVENT_TIME, WEIGHT, SCALES_TYPE, SPRAY_STATUS, DATA_STATUS) \\\n",
    "    VALUES (3, 'rfid02', '25052022', 290, 'model_sql_test', 'NOT', 'NO')\");\n",
    "\n",
    "\n",
    "cur.commit()\n",
    "print(\"Recodrs created succesfully\")\n",
    "cur.close()"
   ]
  },
  {
   "cell_type": "code",
   "execution_count": 37,
   "metadata": {},
   "outputs": [
    {
     "name": "stdout",
     "output_type": "stream",
     "text": [
      "Opened database successfully\n",
      "ID =  1\n",
      "ANIMAL_ID =  rfid01\n",
      "EVENT_TIME =  25052022\n",
      "WEIGHT =  300\n",
      "SCALES_TYPE =  model_sql_test\n",
      "SPRAY_STATUS =  DONE\n",
      "DATA_STATUS =  NO \n",
      "\n",
      "ID =  2\n",
      "ANIMAL_ID =  rfid02\n",
      "EVENT_TIME =  25052022\n",
      "WEIGHT =  340\n",
      "SCALES_TYPE =  model_sql_test\n",
      "SPRAY_STATUS =  WAIT\n",
      "DATA_STATUS =  YES \n",
      "\n",
      "ID =  3\n",
      "ANIMAL_ID =  rfid02\n",
      "EVENT_TIME =  25052022\n",
      "WEIGHT =  290\n",
      "SCALES_TYPE =  model_sql_test\n",
      "SPRAY_STATUS =  NOT\n",
      "DATA_STATUS =  NO \n",
      "\n",
      "Operation done succesfully\n"
     ]
    }
   ],
   "source": [
    "conn = sq3.connect('test_cow.db')\n",
    "print(\"Opened database successfully\")\n",
    "\n",
    "cursor = conn.execute(\"SELECT CASE_ID, ANIMAL_ID, EVENT_TIME, WEIGHT, SCALES_TYPE, SPRAY_STATUS, DATA_STATUS from COWS\")\n",
    "\n",
    "for row in cursor:\n",
    "    print(\"ID = \", row[0])\n",
    "    print(\"ANIMAL_ID = \", row[1])\n",
    "    print(\"EVENT_TIME = \", row[2])\n",
    "    print(\"WEIGHT = \", row[3])\n",
    "    print(\"SCALES_TYPE = \", row[4])\n",
    "    print(\"SPRAY_STATUS = \", row[5])\n",
    "    print(\"DATA_STATUS = \", row[6], \"\\n\")\n",
    "\n",
    "print(\"Operation done succesfully\")\n",
    "conn.close()\n"
   ]
  },
  {
   "cell_type": "code",
   "execution_count": 40,
   "metadata": {},
   "outputs": [],
   "source": [
    "case_id = 4\n",
    "animal_id = '4rfid4'\n",
    "event_time = datetime.now().strftime(\"%d/%m/%Y %H:%M:%S\")\n",
    "weight_finall = 343\n",
    "scales_type = 'model_sql_dyn_var'\n",
    "spray_status = 'DONE'\n",
    "data_status = 'YES'"
   ]
  },
  {
   "cell_type": "code",
   "execution_count": 42,
   "metadata": {},
   "outputs": [
    {
     "name": "stdout",
     "output_type": "stream",
     "text": [
      "Opened database successfully\n",
      "Operation done succesfully\n"
     ]
    }
   ],
   "source": [
    "conn = sq3.connect('test_cow.db')\n",
    "print(\"Opened database successfully\")\n",
    "\n",
    "conn.execute(\"INSERT INTO COWS (ID, ANIMAL_ID, EVENT_TIME, WEIGHT, SCALES_TYPE, SPRAY_STATUS, DATA_STATUS) VALUES(?, ?, ?, ?, ?, ?, ?)\",\n",
    "                                (case_id, animal_id, event_time, weight_finall, scales_type, spray_status, data_status))\n",
    "conn.commit()\n",
    "conn.close()\n",
    "\n",
    "print(\"Operation done succesfully\")\n",
    "conn.close()\n"
   ]
  }
 ],
 "metadata": {
  "interpreter": {
   "hash": "4c0c35152dc4f8061f3457db5eeb1998f752c7745dc9b5bb43e59c30541f9aa3"
  },
  "kernelspec": {
   "display_name": "Python 3.10.4 64-bit",
   "language": "python",
   "name": "python3"
  },
  "language_info": {
   "codemirror_mode": {
    "name": "ipython",
    "version": 3
   },
   "file_extension": ".py",
   "mimetype": "text/x-python",
   "name": "python",
   "nbconvert_exporter": "python",
   "pygments_lexer": "ipython3",
   "version": "3.10.4"
  },
  "orig_nbformat": 4
 },
 "nbformat": 4,
 "nbformat_minor": 2
}
